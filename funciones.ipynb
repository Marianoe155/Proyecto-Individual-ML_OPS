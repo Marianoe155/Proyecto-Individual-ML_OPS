{
 "cells": [
  {
   "cell_type": "code",
   "execution_count": 33,
   "metadata": {},
   "outputs": [],
   "source": [
    "import pandas as pd\n",
    "import numpy as np\n"
   ]
  },
  {
   "cell_type": "code",
   "execution_count": 34,
   "metadata": {},
   "outputs": [],
   "source": [
    "df1 = pd.read_parquet(\"clean_steam_games\")\n",
    "df2 = pd.read_parquet(\"clean_review\")\n",
    "df3 = pd.read_parquet(\"clean_items\")"
   ]
  },
  {
   "cell_type": "code",
   "execution_count": 42,
   "metadata": {},
   "outputs": [],
   "source": [
    "df_merge_review = pd.merge(df1 ,df2, on=\"item_id\")"
   ]
  },
  {
   "cell_type": "markdown",
   "metadata": {},
   "source": [
    "genero-user id- año.lanzamiento - play time forever "
   ]
  },
  {
   "cell_type": "code",
   "execution_count": null,
   "metadata": {},
   "outputs": [],
   "source": [
    "df_marge_item = pd.merge(df1 , df3,on=\"item_id\" )\n",
    "\n",
    "df_nuevo = df_marge_item.drop(columns=[\"item_id\",\"app_name\",\"price\",\"developer\",\"items_count\",\"item_name\"])"
   ]
  },
  {
   "cell_type": "code",
   "execution_count": 19,
   "metadata": {},
   "outputs": [],
   "source": [
    "\n",
    "df = pd.read_parquet(\"clean_steam_games\")\n",
    "df3 = pd.read_parquet(\"clean_items\")\n",
    "\n",
    "df_marge_item = pd.merge(df , df3,on=\"item_id\" )\n",
    "\n",
    "df_nuevo = df_marge_item.drop(columns=[\"item_id\",\"app_name\",\"price\",\"developer\",\"items_count\",\"item_name\"])\n",
    "\n",
    "def UserForGenre(genero):\n",
    "    df_genre = df_nuevo[df_nuevo[genero] == 1] #llamo el genero\n",
    "    \n",
    "    usur_mas_horas = df_genre.groupby(\"user_id\")[\"playtime_forever\"].sum().idxmax() #usuario con más horas de juego en el genero\n",
    "\n",
    "    filtro_usur = df_genre[df_genre[\"user_id\"] == usur_mas_horas] #filtramos por el usuario con mas horas jugadas\n",
    "\n",
    "    horas_jugXaño = filtro_usur.groupby(\"Año_lanzamiento\")[\"playtime_forever\"].sum() #horas jugadas por año \n",
    "\n",
    "    registro = horas_jugXaño.to_dict() #paso las horas por año en diccionario\n",
    "\n",
    "    Horas_por_año = {}  #creo un diccionario vacio para guardar registros \n",
    "    for clave, valor in registro.items(): #un for para que vaya iterando por cada item\n",
    "        clave_formateada = f'Año: {int(clave)}' #formateo para que me salga con año\n",
    "        valor_formateado = f'Horas: {int(valor)}' #formateo para que me salga con horas\n",
    "        Horas_por_año[clave_formateada] = valor_formateado \n",
    "\n",
    "    return print(f\"Usuario con más horas jugadas para Género {genero} : ,{usur_mas_horas} Horas jugadas:{Horas_por_año}\") \n",
    "\n",
    "    \n",
    "\n",
    "    \"\"\"Ejemplo de retorno: {\"Usuario con más horas jugadas para Género X\" : ,us213ndjss09sdf \"Horas jugadas\":[{Año: 2013, Horas: 203},\n",
    "{Año: 2012, Horas: 100}, {Año: 2011, Horas: 23}]}\"\"\"\n",
    "    \n",
    "\n",
    "\n",
    "    "
   ]
  },
  {
   "cell_type": "code",
   "execution_count": 21,
   "metadata": {},
   "outputs": [],
   "source": [
    "%load_ext memory_profiler"
   ]
  },
  {
   "cell_type": "code",
   "execution_count": 43,
   "metadata": {},
   "outputs": [
    {
     "name": "stdout",
     "output_type": "stream",
     "text": [
      "Usuario con más horas jugadas para Género Action : ,Sp3ctre Horas jugadas:{'Año: 1993': 'Horas: 0', 'Año: 1995': 'Horas: 217', 'Año: 1996': 'Horas: 0', 'Año: 1998': 'Horas: 0', 'Año: 1999': 'Horas: 44', 'Año: 2000': 'Horas: 70644', 'Año: 2001': 'Horas: 13', 'Año: 2002': 'Horas: 238', 'Año: 2003': 'Horas: 7673', 'Año: 2004': 'Horas: 127411', 'Año: 2005': 'Horas: 21339', 'Año: 2006': 'Horas: 896', 'Año: 2007': 'Horas: 112784', 'Año: 2008': 'Horas: 224', 'Año: 2009': 'Horas: 108326', 'Año: 2010': 'Horas: 78083', 'Año: 2011': 'Horas: 154896', 'Año: 2012': 'Horas: 378296', 'Año: 2013': 'Horas: 120461', 'Año: 2014': 'Horas: 130691', 'Año: 2015': 'Horas: 312511', 'Año: 2016': 'Horas: 29576', 'Año: 2017': 'Horas: 43327'}\n",
      "peak memory: 1861.39 MiB, increment: 858.39 MiB\n"
     ]
    }
   ],
   "source": [
    "%memit UserForGenre(\"Action\")"
   ]
  },
  {
   "cell_type": "code",
   "execution_count": 122,
   "metadata": {},
   "outputs": [],
   "source": [
    "df_col = df_merge_review[[\"user_id\",\"price\",\"recommend\",\"item_id\"]]"
   ]
  },
  {
   "cell_type": "code",
   "execution_count": 11,
   "metadata": {},
   "outputs": [],
   "source": [
    "df_col = df_merge_review[[\"user_id\",\"price\",\"recommend\",\"item_id\"]]"
   ]
  },
  {
   "cell_type": "code",
   "execution_count": 23,
   "metadata": {},
   "outputs": [],
   "source": [
    "#f2\n",
    "def userdata(user_id):\n",
    "\n",
    "    # Filtrar los datos para el usuario especificado\n",
    "    user_data = df_col[df_col[\"user_id\"] == user_id]\n",
    "\n",
    "    user_items = df3[df3[\"user_id\"] == user_id]\n",
    "\n",
    "    # Calcular la cantidad de dinero gastado por el usuario\n",
    "    dinero_gastado = round(user_data[\"price\"].sum(),2)\n",
    "\n",
    "\n",
    "    # Calcular el porcentaje de recomendación en base a reviews.recommend\n",
    "    recomendacion = user_data[\"recommend\"].sum()\n",
    "    porcentaje_recomendacion = round(recomendacion / len(user_data) * 100)\n",
    "\n",
    "    # Calcular la cantidad de items\n",
    "    cantidad_de_items = user_items[\"item_id\"].nunique()\n",
    "\n",
    "    # Crear un diccionario con los resultados\n",
    "    resultados = {f\"Usuario X:{user_id}, Dinero gastado: {dinero_gastado}USD, % de recomendación: {porcentaje_recomendacion}%, Cantidad de items: {cantidad_de_items}\"}\n",
    "\n",
    "    return resultados"
   ]
  },
  {
   "cell_type": "code",
   "execution_count": 32,
   "metadata": {},
   "outputs": [
    {
     "name": "stdout",
     "output_type": "stream",
     "text": [
      "peak memory: 281.38 MiB, increment: 4.52 MiB\n"
     ]
    }
   ],
   "source": [
    "%memit userdata(\"76561197970982479\")"
   ]
  },
  {
   "cell_type": "code",
   "execution_count": 25,
   "metadata": {},
   "outputs": [],
   "source": [
    "#f4\n",
    "df_merge_review = pd.merge(df1 ,df2, on=\"item_id\")\n",
    "#modifico el DataFrame\n",
    "df_modf = df_merge_review.rename(columns={\"Año_posteo\": \"año\"})\n",
    "df_modf = df_modf[[\"año\",\"recommend\",\"sentiment_analysis\",\"developer\",\"app_name\"]] \n",
    "\n",
    "def best_developer_year(año):\n",
    "     # Filtrar los juegos por año\n",
    "    df_año = df_modf[df_modf[\"año\"] == año]\n",
    "\n",
    "    # Agrupar los juegos por desarrollador y contar el número de juegos recomendados\n",
    "    df_count = df_año[df_año[\"recommend\"] == True][df_año[\"sentiment_analysis\"] == 2].groupby(\"developer\")[\"app_name\"].count()\n",
    "\n",
    "    df_count = df_count.reset_index()\n",
    "    # Ordenar los resultados por número de juegos recomendados y devolver los tres primeros desarrolladores\n",
    "    top_desarrolladores = df_count.sort_values(\"app_name\", ascending=False).head(3)[\"developer\"].tolist()\n",
    "\n",
    "    # Devolver el top 3 de desarrolladores\n",
    "    top_3 = f\"Puesto1:{top_desarrolladores[0]}, Puesto2:{top_desarrolladores[1]}, Puesto3:{top_desarrolladores[2]}\"\n",
    "    return top_3"
   ]
  },
  {
   "cell_type": "code",
   "execution_count": 31,
   "metadata": {},
   "outputs": [
    {
     "name": "stdout",
     "output_type": "stream",
     "text": [
      "peak memory: 276.85 MiB, increment: 1.06 MiB\n"
     ]
    },
    {
     "name": "stderr",
     "output_type": "stream",
     "text": [
      "C:\\Users\\Usuario\\AppData\\Local\\Temp\\ipykernel_24616\\454750289.py:12: UserWarning: Boolean Series key will be reindexed to match DataFrame index.\n",
      "  df_count = df_año[df_año[\"recommend\"] == True][df_año[\"sentiment_analysis\"] == 2].groupby(\"developer\")[\"app_name\"].count()\n"
     ]
    }
   ],
   "source": [
    "%memit best_developer_year(2015)"
   ]
  },
  {
   "cell_type": "code",
   "execution_count": 9,
   "metadata": {},
   "outputs": [],
   "source": [
    "df_modf = df_modf[[\"año\",\"recommend\",\"sentiment_analysis\",\"developer\",\"app_name\"]] "
   ]
  },
  {
   "cell_type": "code",
   "execution_count": 10,
   "metadata": {},
   "outputs": [],
   "source": [
    "df_nuevo = df[[\"item_id\", \"price\",\"developer\",\"Año_lanzamiento\"]]"
   ]
  },
  {
   "cell_type": "code",
   "execution_count": 27,
   "metadata": {},
   "outputs": [],
   "source": [
    "\n",
    "#f1\n",
    "df_nuevo = df[[\"item_id\", \"price\",\"developer\",\"Año_lanzamiento\"]] #columnas que voy a utilizar\n",
    "def developer(desarrollador):\n",
    "    df_deve = df[df[\"developer\"] == desarrollador] #llamo al desarrollador\n",
    "    \n",
    "    cant_item = df_deve.groupby(\"Año_lanzamiento\")[\"item_id\"].count() #obtengo la cantidad por año \n",
    "    \n",
    "    Free = df_deve[df_deve[\"price\"] == 0] #juegos gratuitos del desarrollador\n",
    "    \n",
    "    total_free = Free.groupby(\"Año_lanzamiento\")[\"price\"].count() #cantidad de gratis por año \n",
    "\n",
    "    cont_free_año = round((total_free/cant_item)*100,2) #porcentaje por free por año \n",
    "    \n",
    "    #asigno nombre a las series\n",
    "    cant_item.name = \"Cantidad de Items\"\n",
    "    \n",
    "    cont_free_año.name = \"Contenido Free\"\n",
    "    \n",
    "    tabla = pd.merge(cant_item, cont_free_año,on=\"Año_lanzamiento\") #unimos las dos tablas para hacerla unica\n",
    "    #var = pd.cont_free_año([\"Año_lanzamiento\",\"item_id\"])\n",
    "\n",
    "    return tabla"
   ]
  },
  {
   "cell_type": "code",
   "execution_count": 28,
   "metadata": {},
   "outputs": [
    {
     "name": "stdout",
     "output_type": "stream",
     "text": [
      "peak memory: 277.42 MiB, increment: 5.26 MiB\n"
     ]
    }
   ],
   "source": [
    "%memit developer(\"Dovetail Games\")"
   ]
  },
  {
   "cell_type": "code",
   "execution_count": 29,
   "metadata": {},
   "outputs": [],
   "source": [
    "def developer_reviews_analysis_(desarrolladora):\n",
    "    '''Devuelve un diccionario con el nombre del desarrollador como llave y una lista con la cantidad total de \n",
    "    reseñas positivas y negativas de usuarios\n",
    "\n",
    "    Ejemplo de retorno: {'Valve' : [Negative = 182, Positive = 278]}\n",
    "    '''\n",
    "\n",
    "    # Se filtran las columnas a utilizar y se eliminan duplicados\n",
    "    df_merged = df_merge_review[[\"user_id\", \"item_id\",\"developer\",\"Año_posteo\",\"sentiment_analysis\"]]\n",
    "\n",
    "#Se filtran los datos por el developer ingresado\n",
    "    df_merged = df_merged[df_merged[\"developer\"] == desarrolladora]\n",
    "\n",
    "    # Se obtienen la cantidad de reviews positivas y negativas\n",
    "    positive_reviews = df_merged[df_merged[\"sentiment_analysis\"] == 2].shape[0]\n",
    "    negative_reviews = df_merged[df_merged[\"sentiment_analysis\"] == 0].shape[0]\n",
    "\n",
    "#Se juntan los valores en un f-string\n",
    "    resumen_reviews = f\"[Negative = {negative_reviews}, Positive = {positive_reviews}]\"\n",
    "\n",
    "#Se almacenan los resultados en un diccionario\n",
    "    dicc = {desarrolladora : resumen_reviews}\n",
    "\n",
    "    # Se devuelve un diccionario con los resultados obtenidos\n",
    "    return dicc"
   ]
  },
  {
   "cell_type": "code",
   "execution_count": 30,
   "metadata": {},
   "outputs": [
    {
     "name": "stdout",
     "output_type": "stream",
     "text": [
      "peak memory: 278.26 MiB, increment: 0.80 MiB\n"
     ]
    }
   ],
   "source": [
    "%memit developer_reviews_analysis_(\"Valve\")"
   ]
  }
 ],
 "metadata": {
  "kernelspec": {
   "display_name": "Python 3",
   "language": "python",
   "name": "python3"
  },
  "language_info": {
   "codemirror_mode": {
    "name": "ipython",
    "version": 3
   },
   "file_extension": ".py",
   "mimetype": "text/x-python",
   "name": "python",
   "nbconvert_exporter": "python",
   "pygments_lexer": "ipython3",
   "version": "3.11.4"
  }
 },
 "nbformat": 4,
 "nbformat_minor": 2
}
