{
 "cells": [
  {
   "cell_type": "markdown",
   "metadata": {},
   "source": [
    "def recomendacion_usuario( id de usuario ): Ingresando el id de un usuario, deberíamos recibir una lista con 5 juegos recomendados para dicho usuario."
   ]
  },
  {
   "cell_type": "code",
   "execution_count": 4,
   "metadata": {},
   "outputs": [],
   "source": [
    "import pandas as pd\n",
    "import numpy as np\n",
    "import seaborn as sns\n",
    "import matplotlib.pyplot as plt\n",
    "import scipy.stats as stats "
   ]
  },
  {
   "cell_type": "code",
   "execution_count": 15,
   "metadata": {},
   "outputs": [],
   "source": [
    "review = pd.read_parquet(\"clean_review\")\n",
    "items = pd.read_parquet(\"clean_items\")\n",
    "steam = pd.read_parquet(\"clean_steam_games\")"
   ]
  },
  {
   "cell_type": "code",
   "execution_count": 16,
   "metadata": {},
   "outputs": [],
   "source": [
    "items_y_steam = pd.merge(items, steam, on= \"item_id\")"
   ]
  },
  {
   "cell_type": "code",
   "execution_count": 17,
   "metadata": {},
   "outputs": [],
   "source": [
    "review_y_steam = pd.merge(review, steam, on=\"item_id\")"
   ]
  },
  {
   "cell_type": "code",
   "execution_count": 18,
   "metadata": {},
   "outputs": [
    {
     "name": "stdout",
     "output_type": "stream",
     "text": [
      "<class 'pandas.core.frame.DataFrame'>\n",
      "RangeIndex: 4294257 entries, 0 to 4294256\n",
      "Data columns (total 32 columns):\n",
      " #   Column                     Dtype  \n",
      "---  ------                     -----  \n",
      " 0   user_id                    object \n",
      " 1   items_count                int64  \n",
      " 2   item_id                    float64\n",
      " 3   item_name                  object \n",
      " 4   playtime_forever           float64\n",
      " 5   playtime_2weeks            float64\n",
      " 6   app_name                   object \n",
      " 7   price                      float64\n",
      " 8   developer                  object \n",
      " 9   Accounting                 int64  \n",
      " 10  Action                     int64  \n",
      " 11  Adventure                  int64  \n",
      " 12  Animation &amp; Modeling   int64  \n",
      " 13  Audio Production           int64  \n",
      " 14  Casual                     int64  \n",
      " 15  Design &amp; Illustration  int64  \n",
      " 16  Early Access               int64  \n",
      " 17  Education                  int64  \n",
      " 18  Free to Play               int64  \n",
      " 19  Indie                      int64  \n",
      " 20  Massively Multiplayer      int64  \n",
      " 21  Photo Editing              int64  \n",
      " 22  RPG                        int64  \n",
      " 23  Racing                     int64  \n",
      " 24  Simulation                 int64  \n",
      " 25  Software Training          int64  \n",
      " 26  Sports                     int64  \n",
      " 27  Strategy                   int64  \n",
      " 28  Utilities                  int64  \n",
      " 29  Video Production           int64  \n",
      " 30  Web Publishing             int64  \n",
      " 31  Año_lanzamiento            float64\n",
      "dtypes: float64(5), int64(23), object(4)\n",
      "memory usage: 1.0+ GB\n"
     ]
    }
   ],
   "source": [
    "items_y_steam.info()"
   ]
  },
  {
   "cell_type": "code",
   "execution_count": 19,
   "metadata": {},
   "outputs": [
    {
     "data": {
      "text/plain": [
       "developer                    106159\n",
       "Año_lanzamiento               78438\n",
       "price                          2445\n",
       "Web Publishing                    0\n",
       "Video Production                  0\n",
       "Utilities                         0\n",
       "Strategy                          0\n",
       "Sports                            0\n",
       "Education                         0\n",
       "Software Training                 0\n",
       "Simulation                        0\n",
       "Racing                            0\n",
       "RPG                               0\n",
       "Photo Editing                     0\n",
       "Massively Multiplayer             0\n",
       "Indie                             0\n",
       "Free to Play                      0\n",
       "user_id                           0\n",
       "items_count                       0\n",
       "Design &amp; Illustration         0\n",
       "Casual                            0\n",
       "Audio Production                  0\n",
       "Animation &amp; Modeling          0\n",
       "Adventure                         0\n",
       "Action                            0\n",
       "Accounting                        0\n",
       "app_name                          0\n",
       "playtime_2weeks                   0\n",
       "playtime_forever                  0\n",
       "item_name                         0\n",
       "item_id                           0\n",
       "Early Access                      0\n",
       "dtype: int64"
      ]
     },
     "execution_count": 19,
     "metadata": {},
     "output_type": "execute_result"
    }
   ],
   "source": [
    "items_y_steam.isna().sum().sort_values(ascending= False)"
   ]
  },
  {
   "cell_type": "code",
   "execution_count": 22,
   "metadata": {},
   "outputs": [],
   "source": [
    "items_y_steam.drop_duplicates(inplace= True)"
   ]
  },
  {
   "cell_type": "code",
   "execution_count": 23,
   "metadata": {},
   "outputs": [
    {
     "name": "stdout",
     "output_type": "stream",
     "text": [
      "<class 'pandas.core.frame.DataFrame'>\n",
      "Index: 4244831 entries, 0 to 4294256\n",
      "Data columns (total 32 columns):\n",
      " #   Column                     Dtype  \n",
      "---  ------                     -----  \n",
      " 0   user_id                    object \n",
      " 1   items_count                int64  \n",
      " 2   item_id                    float64\n",
      " 3   item_name                  object \n",
      " 4   playtime_forever           float64\n",
      " 5   playtime_2weeks            float64\n",
      " 6   app_name                   object \n",
      " 7   price                      float64\n",
      " 8   developer                  object \n",
      " 9   Accounting                 int64  \n",
      " 10  Action                     int64  \n",
      " 11  Adventure                  int64  \n",
      " 12  Animation &amp; Modeling   int64  \n",
      " 13  Audio Production           int64  \n",
      " 14  Casual                     int64  \n",
      " 15  Design &amp; Illustration  int64  \n",
      " 16  Early Access               int64  \n",
      " 17  Education                  int64  \n",
      " 18  Free to Play               int64  \n",
      " 19  Indie                      int64  \n",
      " 20  Massively Multiplayer      int64  \n",
      " 21  Photo Editing              int64  \n",
      " 22  RPG                        int64  \n",
      " 23  Racing                     int64  \n",
      " 24  Simulation                 int64  \n",
      " 25  Software Training          int64  \n",
      " 26  Sports                     int64  \n",
      " 27  Strategy                   int64  \n",
      " 28  Utilities                  int64  \n",
      " 29  Video Production           int64  \n",
      " 30  Web Publishing             int64  \n",
      " 31  Año_lanzamiento            float64\n",
      "dtypes: float64(5), int64(23), object(4)\n",
      "memory usage: 1.0+ GB\n"
     ]
    }
   ],
   "source": [
    "items_y_steam.info()"
   ]
  },
  {
   "cell_type": "markdown",
   "metadata": {},
   "source": [
    "Como el objetivo de esta etapa es armar eun modelo de recomendacion de juego por usuario, eliminamos todas las filas que no tengan usuario y juego\n"
   ]
  }
 ],
 "metadata": {
  "kernelspec": {
   "display_name": "Python 3",
   "language": "python",
   "name": "python3"
  },
  "language_info": {
   "codemirror_mode": {
    "name": "ipython",
    "version": 3
   },
   "file_extension": ".py",
   "mimetype": "text/x-python",
   "name": "python",
   "nbconvert_exporter": "python",
   "pygments_lexer": "ipython3",
   "version": "3.11.4"
  }
 },
 "nbformat": 4,
 "nbformat_minor": 2
}
