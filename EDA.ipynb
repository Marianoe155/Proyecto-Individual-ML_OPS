{
 "cells": [
  {
   "cell_type": "code",
   "execution_count": 1,
   "metadata": {},
   "outputs": [],
   "source": [
    "import pandas as pd\n",
    "import numpy as np\n",
    "import seaborn as sns\n",
    "import matplotlib.pyplot as plt\n",
    "import scipy.stats as stats "
   ]
  },
  {
   "cell_type": "markdown",
   "metadata": {},
   "source": [
    "Ya los datos están limpios, ahora es tiempo de investigar las relaciones que hay entre las variables del dataset, ver si hay outliers o anomalías (que no tienen que ser errores necesariamente 👀 ), y ver si hay algún patrón interesante que valga la pena explorar en un análisis posterior. Las nubes de palabras dan una buena idea de cuáles palabras son más frecuentes en los títulos, ¡podría ayudar al sistema de predicción! En esta ocasión vamos a pedirte que no uses librerías para hacer EDA automático ya que queremos que pongas en práctica los conceptos y tareas involucrados en el mismo. Puedes leer un poco más sobre EDA en este articulo"
   ]
  },
  {
   "cell_type": "markdown",
   "metadata": {},
   "source": [
    "# Cargamos los archivos parquet "
   ]
  },
  {
   "cell_type": "code",
   "execution_count": 2,
   "metadata": {},
   "outputs": [],
   "source": [
    "review = pd.read_parquet(\"clean_review\")\n",
    "items = pd.read_parquet(\"clean_items\")\n",
    "steam = pd.read_parquet(\"clean_steam_games\")"
   ]
  },
  {
   "cell_type": "markdown",
   "metadata": {},
   "source": [
    "Unimos nuestros archivos para una mejor vision de la información "
   ]
  },
  {
   "cell_type": "code",
   "execution_count": 4,
   "metadata": {},
   "outputs": [],
   "source": [
    "review_y_steam = pd.merge(review, steam, on=\"item_id\")"
   ]
  },
  {
   "cell_type": "code",
   "execution_count": 3,
   "metadata": {},
   "outputs": [],
   "source": [
    "items_y_steam = pd.merge(items, steam, on= \"item_id\")"
   ]
  },
  {
   "cell_type": "code",
   "execution_count": 13,
   "metadata": {},
   "outputs": [
    {
     "name": "stdout",
     "output_type": "stream",
     "text": [
      "<class 'pandas.core.frame.DataFrame'>\n",
      "RangeIndex: 53988 entries, 0 to 53987\n",
      "Data columns (total 31 columns):\n",
      " #   Column                     Non-Null Count  Dtype  \n",
      "---  ------                     --------------  -----  \n",
      " 0   user_id                    53988 non-null  object \n",
      " 1   item_id                    53988 non-null  float64\n",
      " 2   recommend                  53988 non-null  object \n",
      " 3   sentiment_analysis         53988 non-null  int64  \n",
      " 4   Año_posteo                 53988 non-null  int64  \n",
      " 5   app_name                   53988 non-null  object \n",
      " 6   price                      53976 non-null  float64\n",
      " 7   developer                  50361 non-null  object \n",
      " 8   Accounting                 53988 non-null  int64  \n",
      " 9   Action                     53988 non-null  int64  \n",
      " 10  Adventure                  53988 non-null  int64  \n",
      " 11  Animation &amp; Modeling   53988 non-null  int64  \n",
      " 12  Audio Production           53988 non-null  int64  \n",
      " 13  Casual                     53988 non-null  int64  \n",
      " 14  Design &amp; Illustration  53988 non-null  int64  \n",
      " 15  Early Access               53988 non-null  int64  \n",
      " 16  Education                  53988 non-null  int64  \n",
      " 17  Free to Play               53988 non-null  int64  \n",
      " 18  Indie                      53988 non-null  int64  \n",
      " 19  Massively Multiplayer      53988 non-null  int64  \n",
      " 20  Photo Editing              53988 non-null  int64  \n",
      " 21  RPG                        53988 non-null  int64  \n",
      " 22  Racing                     53988 non-null  int64  \n",
      " 23  Simulation                 53988 non-null  int64  \n",
      " 24  Software Training          53988 non-null  int64  \n",
      " 25  Sports                     53988 non-null  int64  \n",
      " 26  Strategy                   53988 non-null  int64  \n",
      " 27  Utilities                  53988 non-null  int64  \n",
      " 28  Video Production           53988 non-null  int64  \n",
      " 29  Web Publishing             53988 non-null  int64  \n",
      " 30  Año_lanzamiento            50579 non-null  float64\n",
      "dtypes: float64(3), int64(24), object(4)\n",
      "memory usage: 12.8+ MB\n"
     ]
    }
   ],
   "source": [
    "review_y_steam.info() # veo la información mas detallada"
   ]
  },
  {
   "cell_type": "code",
   "execution_count": 14,
   "metadata": {},
   "outputs": [
    {
     "name": "stdout",
     "output_type": "stream",
     "text": [
      "<class 'pandas.core.frame.DataFrame'>\n",
      "RangeIndex: 4294257 entries, 0 to 4294256\n",
      "Data columns (total 32 columns):\n",
      " #   Column                     Dtype  \n",
      "---  ------                     -----  \n",
      " 0   user_id                    object \n",
      " 1   items_count                int64  \n",
      " 2   item_id                    float64\n",
      " 3   item_name                  object \n",
      " 4   playtime_forever           float64\n",
      " 5   playtime_2weeks            float64\n",
      " 6   app_name                   object \n",
      " 7   price                      float64\n",
      " 8   developer                  object \n",
      " 9   Accounting                 int64  \n",
      " 10  Action                     int64  \n",
      " 11  Adventure                  int64  \n",
      " 12  Animation &amp; Modeling   int64  \n",
      " 13  Audio Production           int64  \n",
      " 14  Casual                     int64  \n",
      " 15  Design &amp; Illustration  int64  \n",
      " 16  Early Access               int64  \n",
      " 17  Education                  int64  \n",
      " 18  Free to Play               int64  \n",
      " 19  Indie                      int64  \n",
      " 20  Massively Multiplayer      int64  \n",
      " 21  Photo Editing              int64  \n",
      " 22  RPG                        int64  \n",
      " 23  Racing                     int64  \n",
      " 24  Simulation                 int64  \n",
      " 25  Software Training          int64  \n",
      " 26  Sports                     int64  \n",
      " 27  Strategy                   int64  \n",
      " 28  Utilities                  int64  \n",
      " 29  Video Production           int64  \n",
      " 30  Web Publishing             int64  \n",
      " 31  Año_lanzamiento            float64\n",
      "dtypes: float64(5), int64(23), object(4)\n",
      "memory usage: 1.0+ GB\n"
     ]
    }
   ],
   "source": [
    "items_y_steam.info()"
   ]
  },
  {
   "cell_type": "markdown",
   "metadata": {},
   "source": [
    "### **`Comienzo a trabajar solo en la tabla de reviews con steam`** "
   ]
  },
  {
   "cell_type": "code",
   "execution_count": 8,
   "metadata": {},
   "outputs": [
    {
     "data": {
      "text/html": [
       "<div>\n",
       "<style scoped>\n",
       "    .dataframe tbody tr th:only-of-type {\n",
       "        vertical-align: middle;\n",
       "    }\n",
       "\n",
       "    .dataframe tbody tr th {\n",
       "        vertical-align: top;\n",
       "    }\n",
       "\n",
       "    .dataframe thead th {\n",
       "        text-align: right;\n",
       "    }\n",
       "</style>\n",
       "<table border=\"1\" class=\"dataframe\">\n",
       "  <thead>\n",
       "    <tr style=\"text-align: right;\">\n",
       "      <th></th>\n",
       "      <th>user_id</th>\n",
       "      <th>item_id</th>\n",
       "      <th>recommend</th>\n",
       "      <th>sentiment_analysis</th>\n",
       "      <th>Año_posteo</th>\n",
       "      <th>app_name</th>\n",
       "      <th>price</th>\n",
       "      <th>developer</th>\n",
       "      <th>Accounting</th>\n",
       "      <th>Action</th>\n",
       "      <th>...</th>\n",
       "      <th>RPG</th>\n",
       "      <th>Racing</th>\n",
       "      <th>Simulation</th>\n",
       "      <th>Software Training</th>\n",
       "      <th>Sports</th>\n",
       "      <th>Strategy</th>\n",
       "      <th>Utilities</th>\n",
       "      <th>Video Production</th>\n",
       "      <th>Web Publishing</th>\n",
       "      <th>Año_lanzamiento</th>\n",
       "    </tr>\n",
       "  </thead>\n",
       "  <tbody>\n",
       "    <tr>\n",
       "      <th>0</th>\n",
       "      <td>76561197970982479</td>\n",
       "      <td>1250.0</td>\n",
       "      <td>True</td>\n",
       "      <td>2</td>\n",
       "      <td>2011</td>\n",
       "      <td>Killing Floor</td>\n",
       "      <td>19.99</td>\n",
       "      <td>Tripwire Interactive</td>\n",
       "      <td>0</td>\n",
       "      <td>1</td>\n",
       "      <td>...</td>\n",
       "      <td>0</td>\n",
       "      <td>0</td>\n",
       "      <td>0</td>\n",
       "      <td>0</td>\n",
       "      <td>0</td>\n",
       "      <td>0</td>\n",
       "      <td>0</td>\n",
       "      <td>0</td>\n",
       "      <td>0</td>\n",
       "      <td>2009.0</td>\n",
       "    </tr>\n",
       "  </tbody>\n",
       "</table>\n",
       "<p>1 rows × 31 columns</p>\n",
       "</div>"
      ],
      "text/plain": [
       "             user_id  item_id recommend  sentiment_analysis  Año_posteo  \\\n",
       "0  76561197970982479   1250.0      True                   2        2011   \n",
       "\n",
       "        app_name  price             developer  Accounting  Action  ...  RPG  \\\n",
       "0  Killing Floor  19.99  Tripwire Interactive           0       1  ...    0   \n",
       "\n",
       "   Racing  Simulation  Software Training  Sports  Strategy  Utilities  \\\n",
       "0       0           0                  0       0         0          0   \n",
       "\n",
       "   Video Production  Web Publishing  Año_lanzamiento  \n",
       "0                 0               0           2009.0  \n",
       "\n",
       "[1 rows x 31 columns]"
      ]
     },
     "execution_count": 8,
     "metadata": {},
     "output_type": "execute_result"
    }
   ],
   "source": [
    "review_y_steam.head(1) #observo que columnas me sirven para el eda"
   ]
  },
  {
   "cell_type": "code",
   "execution_count": 11,
   "metadata": {},
   "outputs": [],
   "source": [
    "review1 = review_y_steam.drop(columns=[\"Año_posteo\",\"Año_lanzamiento\"]) #elimino las columnas que no utilizo para el eda"
   ]
  },
  {
   "cell_type": "code",
   "execution_count": 16,
   "metadata": {},
   "outputs": [
    {
     "data": {
      "text/html": [
       "<div>\n",
       "<style scoped>\n",
       "    .dataframe tbody tr th:only-of-type {\n",
       "        vertical-align: middle;\n",
       "    }\n",
       "\n",
       "    .dataframe tbody tr th {\n",
       "        vertical-align: top;\n",
       "    }\n",
       "\n",
       "    .dataframe thead th {\n",
       "        text-align: right;\n",
       "    }\n",
       "</style>\n",
       "<table border=\"1\" class=\"dataframe\">\n",
       "  <thead>\n",
       "    <tr style=\"text-align: right;\">\n",
       "      <th></th>\n",
       "      <th>user_id</th>\n",
       "      <th>item_id</th>\n",
       "      <th>recommend</th>\n",
       "      <th>sentiment_analysis</th>\n",
       "      <th>app_name</th>\n",
       "      <th>price</th>\n",
       "      <th>developer</th>\n",
       "      <th>Accounting</th>\n",
       "      <th>Action</th>\n",
       "      <th>Adventure</th>\n",
       "      <th>...</th>\n",
       "      <th>Photo Editing</th>\n",
       "      <th>RPG</th>\n",
       "      <th>Racing</th>\n",
       "      <th>Simulation</th>\n",
       "      <th>Software Training</th>\n",
       "      <th>Sports</th>\n",
       "      <th>Strategy</th>\n",
       "      <th>Utilities</th>\n",
       "      <th>Video Production</th>\n",
       "      <th>Web Publishing</th>\n",
       "    </tr>\n",
       "  </thead>\n",
       "  <tbody>\n",
       "    <tr>\n",
       "      <th>0</th>\n",
       "      <td>76561197970982479</td>\n",
       "      <td>1250.0</td>\n",
       "      <td>True</td>\n",
       "      <td>2</td>\n",
       "      <td>Killing Floor</td>\n",
       "      <td>19.99</td>\n",
       "      <td>Tripwire Interactive</td>\n",
       "      <td>0</td>\n",
       "      <td>1</td>\n",
       "      <td>0</td>\n",
       "      <td>...</td>\n",
       "      <td>0</td>\n",
       "      <td>0</td>\n",
       "      <td>0</td>\n",
       "      <td>0</td>\n",
       "      <td>0</td>\n",
       "      <td>0</td>\n",
       "      <td>0</td>\n",
       "      <td>0</td>\n",
       "      <td>0</td>\n",
       "      <td>0</td>\n",
       "    </tr>\n",
       "  </tbody>\n",
       "</table>\n",
       "<p>1 rows × 29 columns</p>\n",
       "</div>"
      ],
      "text/plain": [
       "             user_id  item_id recommend  sentiment_analysis       app_name  \\\n",
       "0  76561197970982479   1250.0      True                   2  Killing Floor   \n",
       "\n",
       "   price             developer  Accounting  Action  Adventure  ...  \\\n",
       "0  19.99  Tripwire Interactive           0       1          0  ...   \n",
       "\n",
       "   Photo Editing  RPG  Racing  Simulation  Software Training  Sports  \\\n",
       "0              0    0       0           0                  0       0   \n",
       "\n",
       "   Strategy  Utilities  Video Production  Web Publishing  \n",
       "0         0          0                 0               0  \n",
       "\n",
       "[1 rows x 29 columns]"
      ]
     },
     "execution_count": 16,
     "metadata": {},
     "output_type": "execute_result"
    }
   ],
   "source": [
    "review1.head(1)"
   ]
  },
  {
   "cell_type": "markdown",
   "metadata": {},
   "source": [
    "# Developer con mas usuarios "
   ]
  },
  {
   "cell_type": "code",
   "execution_count": 39,
   "metadata": {},
   "outputs": [],
   "source": [
    "df = review1.groupby(\"developer\")[\"user_id\"].count().sort_values(ascending=False).reset_index()\n",
    "# Lo agrupo por developer, hago un conteo de usuarios y lo ordeno de mayor a menor "
   ]
  },
  {
   "cell_type": "code",
   "execution_count": 51,
   "metadata": {},
   "outputs": [
    {
     "data": {
      "text/plain": [
       "developer  user_id\n",
       "False      False      2108\n",
       "Name: count, dtype: int64"
      ]
     },
     "execution_count": 51,
     "metadata": {},
     "output_type": "execute_result"
    }
   ],
   "source": [
    "df.isna().value_counts()"
   ]
  },
  {
   "cell_type": "code",
   "execution_count": 47,
   "metadata": {},
   "outputs": [],
   "source": [
    "Top5_dev = df.head(5) # Tomo los primero 5 developer con mas usuarios"
   ]
  },
  {
   "cell_type": "code",
   "execution_count": 48,
   "metadata": {},
   "outputs": [
    {
     "data": {
      "text/html": [
       "<div>\n",
       "<style scoped>\n",
       "    .dataframe tbody tr th:only-of-type {\n",
       "        vertical-align: middle;\n",
       "    }\n",
       "\n",
       "    .dataframe tbody tr th {\n",
       "        vertical-align: top;\n",
       "    }\n",
       "\n",
       "    .dataframe thead th {\n",
       "        text-align: right;\n",
       "    }\n",
       "</style>\n",
       "<table border=\"1\" class=\"dataframe\">\n",
       "  <thead>\n",
       "    <tr style=\"text-align: right;\">\n",
       "      <th></th>\n",
       "      <th>developer</th>\n",
       "      <th>user_id</th>\n",
       "    </tr>\n",
       "  </thead>\n",
       "  <tbody>\n",
       "    <tr>\n",
       "      <th>0</th>\n",
       "      <td>Valve</td>\n",
       "      <td>9697</td>\n",
       "    </tr>\n",
       "    <tr>\n",
       "      <th>1</th>\n",
       "      <td>Facepunch Studios</td>\n",
       "      <td>2550</td>\n",
       "    </tr>\n",
       "    <tr>\n",
       "      <th>2</th>\n",
       "      <td>Bohemia Interactive</td>\n",
       "      <td>1161</td>\n",
       "    </tr>\n",
       "    <tr>\n",
       "      <th>3</th>\n",
       "      <td>Smartly Dressed Games</td>\n",
       "      <td>1066</td>\n",
       "    </tr>\n",
       "    <tr>\n",
       "      <th>4</th>\n",
       "      <td>Re-Logic</td>\n",
       "      <td>741</td>\n",
       "    </tr>\n",
       "  </tbody>\n",
       "</table>\n",
       "</div>"
      ],
      "text/plain": [
       "               developer  user_id\n",
       "0                  Valve     9697\n",
       "1      Facepunch Studios     2550\n",
       "2    Bohemia Interactive     1161\n",
       "3  Smartly Dressed Games     1066\n",
       "4               Re-Logic      741"
      ]
     },
     "execution_count": 48,
     "metadata": {},
     "output_type": "execute_result"
    }
   ],
   "source": [
    "Top5_dev"
   ]
  },
  {
   "cell_type": "code",
   "execution_count": 55,
   "metadata": {},
   "outputs": [
    {
     "data": {
      "image/png": "[encoded data removed]",
      "text/plain": [
       "<Figure size 1000x600 with 1 Axes>"
      ]
     },
     "metadata": {},
     "output_type": "display_data"
    }
   ],
   "source": [
    "\n",
    "# Creo un grafico de barras para el top 5 de developer con mas usuarios\n",
    "plt.figure(figsize=(10, 6))\n",
    "plt.bar(Top5_dev[\"developer\"], Top5_dev[\"user_id\"])\n",
    "plt.xlabel(\"developer\")\n",
    "plt.ylabel(\"user_id\")\n",
    "plt.title(\"user_id\")\n",
    "plt.xticks(rotation=45)  # Rotar las etiquetas en el eje x para mayor legibilidad\n",
    "\n",
    "plt.show()\n"
   ]
  },
  {
   "cell_type": "markdown",
   "metadata": {},
   "source": [
    "# Juegos con mayor recomendacion"
   ]
  },
  {
   "cell_type": "code",
   "execution_count": 56,
   "metadata": {},
   "outputs": [
    {
     "data": {
      "text/html": [
       "<div>\n",
       "<style scoped>\n",
       "    .dataframe tbody tr th:only-of-type {\n",
       "        vertical-align: middle;\n",
       "    }\n",
       "\n",
       "    .dataframe tbody tr th {\n",
       "        vertical-align: top;\n",
       "    }\n",
       "\n",
       "    .dataframe thead th {\n",
       "        text-align: right;\n",
       "    }\n",
       "</style>\n",
       "<table border=\"1\" class=\"dataframe\">\n",
       "  <thead>\n",
       "    <tr style=\"text-align: right;\">\n",
       "      <th></th>\n",
       "      <th>user_id</th>\n",
       "      <th>item_id</th>\n",
       "      <th>recommend</th>\n",
       "      <th>sentiment_analysis</th>\n",
       "      <th>app_name</th>\n",
       "      <th>price</th>\n",
       "      <th>developer</th>\n",
       "      <th>Accounting</th>\n",
       "      <th>Action</th>\n",
       "      <th>Adventure</th>\n",
       "      <th>...</th>\n",
       "      <th>Photo Editing</th>\n",
       "      <th>RPG</th>\n",
       "      <th>Racing</th>\n",
       "      <th>Simulation</th>\n",
       "      <th>Software Training</th>\n",
       "      <th>Sports</th>\n",
       "      <th>Strategy</th>\n",
       "      <th>Utilities</th>\n",
       "      <th>Video Production</th>\n",
       "      <th>Web Publishing</th>\n",
       "    </tr>\n",
       "  </thead>\n",
       "  <tbody>\n",
       "    <tr>\n",
       "      <th>0</th>\n",
       "      <td>76561197970982479</td>\n",
       "      <td>1250.0</td>\n",
       "      <td>True</td>\n",
       "      <td>2</td>\n",
       "      <td>Killing Floor</td>\n",
       "      <td>19.99</td>\n",
       "      <td>Tripwire Interactive</td>\n",
       "      <td>0</td>\n",
       "      <td>1</td>\n",
       "      <td>0</td>\n",
       "      <td>...</td>\n",
       "      <td>0</td>\n",
       "      <td>0</td>\n",
       "      <td>0</td>\n",
       "      <td>0</td>\n",
       "      <td>0</td>\n",
       "      <td>0</td>\n",
       "      <td>0</td>\n",
       "      <td>0</td>\n",
       "      <td>0</td>\n",
       "      <td>0</td>\n",
       "    </tr>\n",
       "  </tbody>\n",
       "</table>\n",
       "<p>1 rows × 29 columns</p>\n",
       "</div>"
      ],
      "text/plain": [
       "             user_id  item_id recommend  sentiment_analysis       app_name  \\\n",
       "0  76561197970982479   1250.0      True                   2  Killing Floor   \n",
       "\n",
       "   price             developer  Accounting  Action  Adventure  ...  \\\n",
       "0  19.99  Tripwire Interactive           0       1          0  ...   \n",
       "\n",
       "   Photo Editing  RPG  Racing  Simulation  Software Training  Sports  \\\n",
       "0              0    0       0           0                  0       0   \n",
       "\n",
       "   Strategy  Utilities  Video Production  Web Publishing  \n",
       "0         0          0                 0               0  \n",
       "\n",
       "[1 rows x 29 columns]"
      ]
     },
     "execution_count": 56,
     "metadata": {},
     "output_type": "execute_result"
    }
   ],
   "source": [
    "review1.head(1)"
   ]
  },
  {
   "cell_type": "code",
   "execution_count": 61,
   "metadata": {},
   "outputs": [],
   "source": [
    "juegos_recom = review1[[\"app_name\",\"recommend\"]] # tomamos las columnas necesarias "
   ]
  },
  {
   "cell_type": "code",
   "execution_count": 72,
   "metadata": {},
   "outputs": [
    {
     "data": {
      "text/plain": [
       "app_name                              recommend\n",
       "Team Fortress 2                       True         3611\n",
       "Counter-Strike: Global Offensive      True         3478\n",
       "Garry's Mod                           True         1685\n",
       "Dota 2                                True         1458\n",
       "Unturned                              True          961\n",
       "                                                   ... \n",
       "LEGO® Jurassic World                  False           1\n",
       "                                      True            1\n",
       "LEGO® MARVEL's Avengers               True            1\n",
       "LEGO® Star Wars™ - The Complete Saga  False           1\n",
       "Астролорды: Облако Оорта              True            1\n",
       "Name: count, Length: 4230, dtype: int64"
      ]
     },
     "execution_count": 72,
     "metadata": {},
     "output_type": "execute_result"
    }
   ],
   "source": [
    "juegos_recom.value_counts() # veo los valores encontrados"
   ]
  },
  {
   "cell_type": "code",
   "execution_count": 62,
   "metadata": {},
   "outputs": [
    {
     "data": {
      "text/html": [
       "<div>\n",
       "<style scoped>\n",
       "    .dataframe tbody tr th:only-of-type {\n",
       "        vertical-align: middle;\n",
       "    }\n",
       "\n",
       "    .dataframe tbody tr th {\n",
       "        vertical-align: top;\n",
       "    }\n",
       "\n",
       "    .dataframe thead th {\n",
       "        text-align: right;\n",
       "    }\n",
       "</style>\n",
       "<table border=\"1\" class=\"dataframe\">\n",
       "  <thead>\n",
       "    <tr style=\"text-align: right;\">\n",
       "      <th></th>\n",
       "      <th>app_name</th>\n",
       "      <th>recommend</th>\n",
       "    </tr>\n",
       "  </thead>\n",
       "  <tbody>\n",
       "    <tr>\n",
       "      <th>0</th>\n",
       "      <td>Killing Floor</td>\n",
       "      <td>True</td>\n",
       "    </tr>\n",
       "    <tr>\n",
       "      <th>1</th>\n",
       "      <td>Killing Floor</td>\n",
       "      <td>True</td>\n",
       "    </tr>\n",
       "    <tr>\n",
       "      <th>2</th>\n",
       "      <td>Killing Floor</td>\n",
       "      <td>True</td>\n",
       "    </tr>\n",
       "    <tr>\n",
       "      <th>3</th>\n",
       "      <td>Killing Floor</td>\n",
       "      <td>True</td>\n",
       "    </tr>\n",
       "    <tr>\n",
       "      <th>4</th>\n",
       "      <td>Killing Floor</td>\n",
       "      <td>True</td>\n",
       "    </tr>\n",
       "    <tr>\n",
       "      <th>...</th>\n",
       "      <td>...</td>\n",
       "      <td>...</td>\n",
       "    </tr>\n",
       "    <tr>\n",
       "      <th>53983</th>\n",
       "      <td>Asteria</td>\n",
       "      <td>True</td>\n",
       "    </tr>\n",
       "    <tr>\n",
       "      <th>53984</th>\n",
       "      <td>Street Fighter X Tekken</td>\n",
       "      <td>True</td>\n",
       "    </tr>\n",
       "    <tr>\n",
       "      <th>53985</th>\n",
       "      <td>The Journey Down: Chapter One</td>\n",
       "      <td>True</td>\n",
       "    </tr>\n",
       "    <tr>\n",
       "      <th>53986</th>\n",
       "      <td>The Journey Down: Chapter Two</td>\n",
       "      <td>True</td>\n",
       "    </tr>\n",
       "    <tr>\n",
       "      <th>53987</th>\n",
       "      <td>Mystic Destinies: Serendipity of Aeons</td>\n",
       "      <td>True</td>\n",
       "    </tr>\n",
       "  </tbody>\n",
       "</table>\n",
       "<p>53988 rows × 2 columns</p>\n",
       "</div>"
      ],
      "text/plain": [
       "                                     app_name recommend\n",
       "0                               Killing Floor      True\n",
       "1                               Killing Floor      True\n",
       "2                               Killing Floor      True\n",
       "3                               Killing Floor      True\n",
       "4                               Killing Floor      True\n",
       "...                                       ...       ...\n",
       "53983                                 Asteria      True\n",
       "53984                 Street Fighter X Tekken      True\n",
       "53985           The Journey Down: Chapter One      True\n",
       "53986           The Journey Down: Chapter Two      True\n",
       "53987  Mystic Destinies: Serendipity of Aeons      True\n",
       "\n",
       "[53988 rows x 2 columns]"
      ]
     },
     "execution_count": 62,
     "metadata": {},
     "output_type": "execute_result"
    }
   ],
   "source": [
    "juegos_recom"
   ]
  },
  {
   "cell_type": "code",
   "execution_count": 83,
   "metadata": {},
   "outputs": [],
   "source": [
    "#Filtro por si hubo recomendacion, lo agrupo por nombre de juego \n",
    "mayor_recom = juegos_recom[juegos_recom[\"recommend\"] == True].groupby(\"app_name\").sum().sort_values(\"recommend\",ascending=False).reset_index()"
   ]
  },
  {
   "cell_type": "code",
   "execution_count": 183,
   "metadata": {},
   "outputs": [],
   "source": [
    "top5 = mayor_recom.head(5)  # Busco los 10 primeros juegos con mayor recomendacion"
   ]
  },
  {
   "cell_type": "code",
   "execution_count": 184,
   "metadata": {},
   "outputs": [
    {
     "data": {
      "text/html": [
       "<div>\n",
       "<style scoped>\n",
       "    .dataframe tbody tr th:only-of-type {\n",
       "        vertical-align: middle;\n",
       "    }\n",
       "\n",
       "    .dataframe tbody tr th {\n",
       "        vertical-align: top;\n",
       "    }\n",
       "\n",
       "    .dataframe thead th {\n",
       "        text-align: right;\n",
       "    }\n",
       "</style>\n",
       "<table border=\"1\" class=\"dataframe\">\n",
       "  <thead>\n",
       "    <tr style=\"text-align: right;\">\n",
       "      <th></th>\n",
       "      <th>app_name</th>\n",
       "      <th>recommend</th>\n",
       "    </tr>\n",
       "  </thead>\n",
       "  <tbody>\n",
       "    <tr>\n",
       "      <th>0</th>\n",
       "      <td>Team Fortress 2</td>\n",
       "      <td>3611</td>\n",
       "    </tr>\n",
       "    <tr>\n",
       "      <th>1</th>\n",
       "      <td>Counter-Strike: Global Offensive</td>\n",
       "      <td>3478</td>\n",
       "    </tr>\n",
       "    <tr>\n",
       "      <th>2</th>\n",
       "      <td>Garry's Mod</td>\n",
       "      <td>1685</td>\n",
       "    </tr>\n",
       "    <tr>\n",
       "      <th>3</th>\n",
       "      <td>Dota 2</td>\n",
       "      <td>1458</td>\n",
       "    </tr>\n",
       "    <tr>\n",
       "      <th>4</th>\n",
       "      <td>Unturned</td>\n",
       "      <td>961</td>\n",
       "    </tr>\n",
       "  </tbody>\n",
       "</table>\n",
       "</div>"
      ],
      "text/plain": [
       "                           app_name recommend\n",
       "0                   Team Fortress 2      3611\n",
       "1  Counter-Strike: Global Offensive      3478\n",
       "2                       Garry's Mod      1685\n",
       "3                            Dota 2      1458\n",
       "4                          Unturned       961"
      ]
     },
     "execution_count": 184,
     "metadata": {},
     "output_type": "execute_result"
    }
   ],
   "source": [
    "top5"
   ]
  },
  {
   "cell_type": "code",
   "execution_count": 185,
   "metadata": {},
   "outputs": [
    {
     "data": {
      "image/png": "[encoded data removed]",
      "text/plain": [
       "<Figure size 1000x600 with 1 Axes>"
      ]
     },
     "metadata": {},
     "output_type": "display_data"
    }
   ],
   "source": [
    "\n",
    "# Creo un grafico de barras para el top 8 juegos con mayor recomendacion\n",
    "plt.figure(figsize=(10, 6))\n",
    "plt.bar(top5[\"app_name\"], top5[\"recommend\"])\n",
    "plt.xlabel(\"developer\")\n",
    "plt.ylabel(\"recomendaciones\")\n",
    "plt.title(\"juego con mas recomendaciones\")\n",
    "plt.xticks(rotation=45)  # Rotar las etiquetas en el eje x para mayor legibilidad\n",
    "\n",
    "plt.show()"
   ]
  },
  {
   "cell_type": "markdown",
   "metadata": {},
   "source": [
    "# Cantidad de tipo por sentimiento de analisis"
   ]
  },
  {
   "cell_type": "code",
   "execution_count": 90,
   "metadata": {},
   "outputs": [
    {
     "data": {
      "text/html": [
       "<div>\n",
       "<style scoped>\n",
       "    .dataframe tbody tr th:only-of-type {\n",
       "        vertical-align: middle;\n",
       "    }\n",
       "\n",
       "    .dataframe tbody tr th {\n",
       "        vertical-align: top;\n",
       "    }\n",
       "\n",
       "    .dataframe thead th {\n",
       "        text-align: right;\n",
       "    }\n",
       "</style>\n",
       "<table border=\"1\" class=\"dataframe\">\n",
       "  <thead>\n",
       "    <tr style=\"text-align: right;\">\n",
       "      <th></th>\n",
       "      <th>user_id</th>\n",
       "      <th>item_id</th>\n",
       "      <th>recommend</th>\n",
       "      <th>sentiment_analysis</th>\n",
       "      <th>app_name</th>\n",
       "      <th>price</th>\n",
       "      <th>developer</th>\n",
       "      <th>Accounting</th>\n",
       "      <th>Action</th>\n",
       "      <th>Adventure</th>\n",
       "      <th>...</th>\n",
       "      <th>Photo Editing</th>\n",
       "      <th>RPG</th>\n",
       "      <th>Racing</th>\n",
       "      <th>Simulation</th>\n",
       "      <th>Software Training</th>\n",
       "      <th>Sports</th>\n",
       "      <th>Strategy</th>\n",
       "      <th>Utilities</th>\n",
       "      <th>Video Production</th>\n",
       "      <th>Web Publishing</th>\n",
       "    </tr>\n",
       "  </thead>\n",
       "  <tbody>\n",
       "    <tr>\n",
       "      <th>0</th>\n",
       "      <td>76561197970982479</td>\n",
       "      <td>1250.0</td>\n",
       "      <td>True</td>\n",
       "      <td>2</td>\n",
       "      <td>Killing Floor</td>\n",
       "      <td>19.99</td>\n",
       "      <td>Tripwire Interactive</td>\n",
       "      <td>0</td>\n",
       "      <td>1</td>\n",
       "      <td>0</td>\n",
       "      <td>...</td>\n",
       "      <td>0</td>\n",
       "      <td>0</td>\n",
       "      <td>0</td>\n",
       "      <td>0</td>\n",
       "      <td>0</td>\n",
       "      <td>0</td>\n",
       "      <td>0</td>\n",
       "      <td>0</td>\n",
       "      <td>0</td>\n",
       "      <td>0</td>\n",
       "    </tr>\n",
       "  </tbody>\n",
       "</table>\n",
       "<p>1 rows × 29 columns</p>\n",
       "</div>"
      ],
      "text/plain": [
       "             user_id  item_id recommend  sentiment_analysis       app_name  \\\n",
       "0  76561197970982479   1250.0      True                   2  Killing Floor   \n",
       "\n",
       "   price             developer  Accounting  Action  Adventure  ...  \\\n",
       "0  19.99  Tripwire Interactive           0       1          0  ...   \n",
       "\n",
       "   Photo Editing  RPG  Racing  Simulation  Software Training  Sports  \\\n",
       "0              0    0       0           0                  0       0   \n",
       "\n",
       "   Strategy  Utilities  Video Production  Web Publishing  \n",
       "0         0          0                 0               0  \n",
       "\n",
       "[1 rows x 29 columns]"
      ]
     },
     "execution_count": 90,
     "metadata": {},
     "output_type": "execute_result"
    }
   ],
   "source": [
    "review1.head(1)"
   ]
  },
  {
   "cell_type": "code",
   "execution_count": 98,
   "metadata": {},
   "outputs": [
    {
     "data": {
      "image/png": "[encoded data removed]",
      "text/plain": [
       "<Figure size 600x600 with 1 Axes>"
      ]
     },
     "metadata": {},
     "output_type": "display_data"
    }
   ],
   "source": [
    "plt.figure(figsize=(6, 6))  # Ajusta el tamaño del gráfico\n",
    "\n",
    "#Contar el número de sentimiento de analisis positivas, negativas y neutral\n",
    "num_positivas = len(review1[review1[\"sentiment_analysis\"] == 2])\n",
    "num_neutral = len(review1[review1[\"sentiment_analysis\"] == 1])\n",
    "num_negativas = len(review1[review1[\"sentiment_analysis\"] == 0])\n",
    "\n",
    "#Graficar los datos\n",
    "plt.pie([num_positivas, num_negativas,num_neutral], labels=[\"Positivas\", \"Negativas\",\"Neutral\"], autopct='%1.1f%%', startangle=90)\n",
    "plt.axis(\"equal\")  # Ajustar el aspecto del gráfico para que sea un círculo.\n",
    "plt.title(\"Proporción sentimiento de analisis\")  # Título del gráfico\n",
    "\n",
    "#Mostrar el gráfico\n",
    "plt.show()"
   ]
  },
  {
   "cell_type": "markdown",
   "metadata": {},
   "source": [
    "### **`Comienzo a trabajar solo en la tabla de items con steam`**"
   ]
  },
  {
   "cell_type": "code",
   "execution_count": 99,
   "metadata": {},
   "outputs": [
    {
     "data": {
      "text/html": [
       "<div>\n",
       "<style scoped>\n",
       "    .dataframe tbody tr th:only-of-type {\n",
       "        vertical-align: middle;\n",
       "    }\n",
       "\n",
       "    .dataframe tbody tr th {\n",
       "        vertical-align: top;\n",
       "    }\n",
       "\n",
       "    .dataframe thead th {\n",
       "        text-align: right;\n",
       "    }\n",
       "</style>\n",
       "<table border=\"1\" class=\"dataframe\">\n",
       "  <thead>\n",
       "    <tr style=\"text-align: right;\">\n",
       "      <th></th>\n",
       "      <th>user_id</th>\n",
       "      <th>items_count</th>\n",
       "      <th>item_id</th>\n",
       "      <th>item_name</th>\n",
       "      <th>playtime_forever</th>\n",
       "      <th>playtime_2weeks</th>\n",
       "      <th>app_name</th>\n",
       "      <th>price</th>\n",
       "      <th>developer</th>\n",
       "      <th>Accounting</th>\n",
       "      <th>...</th>\n",
       "      <th>RPG</th>\n",
       "      <th>Racing</th>\n",
       "      <th>Simulation</th>\n",
       "      <th>Software Training</th>\n",
       "      <th>Sports</th>\n",
       "      <th>Strategy</th>\n",
       "      <th>Utilities</th>\n",
       "      <th>Video Production</th>\n",
       "      <th>Web Publishing</th>\n",
       "      <th>Año_lanzamiento</th>\n",
       "    </tr>\n",
       "  </thead>\n",
       "  <tbody>\n",
       "    <tr>\n",
       "      <th>0</th>\n",
       "      <td>76561197970982479</td>\n",
       "      <td>277</td>\n",
       "      <td>10.0</td>\n",
       "      <td>Counter-Strike</td>\n",
       "      <td>6.0</td>\n",
       "      <td>0.0</td>\n",
       "      <td>Counter-Strike</td>\n",
       "      <td>9.99</td>\n",
       "      <td>Valve</td>\n",
       "      <td>0</td>\n",
       "      <td>...</td>\n",
       "      <td>0</td>\n",
       "      <td>0</td>\n",
       "      <td>0</td>\n",
       "      <td>0</td>\n",
       "      <td>0</td>\n",
       "      <td>0</td>\n",
       "      <td>0</td>\n",
       "      <td>0</td>\n",
       "      <td>0</td>\n",
       "      <td>2000.0</td>\n",
       "    </tr>\n",
       "  </tbody>\n",
       "</table>\n",
       "<p>1 rows × 32 columns</p>\n",
       "</div>"
      ],
      "text/plain": [
       "             user_id  items_count  item_id       item_name  playtime_forever  \\\n",
       "0  76561197970982479          277     10.0  Counter-Strike               6.0   \n",
       "\n",
       "   playtime_2weeks        app_name  price developer  Accounting  ...  RPG  \\\n",
       "0              0.0  Counter-Strike   9.99     Valve           0  ...    0   \n",
       "\n",
       "   Racing  Simulation  Software Training  Sports  Strategy  Utilities  \\\n",
       "0       0           0                  0       0         0          0   \n",
       "\n",
       "   Video Production  Web Publishing  Año_lanzamiento  \n",
       "0                 0               0           2000.0  \n",
       "\n",
       "[1 rows x 32 columns]"
      ]
     },
     "execution_count": 99,
     "metadata": {},
     "output_type": "execute_result"
    }
   ],
   "source": [
    "items_y_steam.head(1) # observo que columnas me sirven para el eda"
   ]
  },
  {
   "cell_type": "code",
   "execution_count": 100,
   "metadata": {},
   "outputs": [],
   "source": [
    "# borro las columnas que no voy a utilizar\n",
    "items = items_y_steam.drop(columns=[\"items_count\", \"playtime_2weeks\",\"price\", \"Año_lanzamiento\"])"
   ]
  },
  {
   "cell_type": "markdown",
   "metadata": {},
   "source": [
    "# Juegos mas jugados "
   ]
  },
  {
   "cell_type": "code",
   "execution_count": 105,
   "metadata": {},
   "outputs": [],
   "source": [
    "items = items[[ \"app_name\",\"playtime_forever\"]] # tomo solo esta dos columnas"
   ]
  },
  {
   "cell_type": "code",
   "execution_count": 108,
   "metadata": {},
   "outputs": [
    {
     "data": {
      "text/html": [
       "<div>\n",
       "<style scoped>\n",
       "    .dataframe tbody tr th:only-of-type {\n",
       "        vertical-align: middle;\n",
       "    }\n",
       "\n",
       "    .dataframe tbody tr th {\n",
       "        vertical-align: top;\n",
       "    }\n",
       "\n",
       "    .dataframe thead th {\n",
       "        text-align: right;\n",
       "    }\n",
       "</style>\n",
       "<table border=\"1\" class=\"dataframe\">\n",
       "  <thead>\n",
       "    <tr style=\"text-align: right;\">\n",
       "      <th></th>\n",
       "      <th>app_name</th>\n",
       "      <th>playtime_forever</th>\n",
       "    </tr>\n",
       "  </thead>\n",
       "  <tbody>\n",
       "    <tr>\n",
       "      <th>0</th>\n",
       "      <td>Counter-Strike</td>\n",
       "      <td>6.0</td>\n",
       "    </tr>\n",
       "    <tr>\n",
       "      <th>1</th>\n",
       "      <td>Counter-Strike</td>\n",
       "      <td>0.0</td>\n",
       "    </tr>\n",
       "    <tr>\n",
       "      <th>2</th>\n",
       "      <td>Counter-Strike</td>\n",
       "      <td>0.0</td>\n",
       "    </tr>\n",
       "    <tr>\n",
       "      <th>3</th>\n",
       "      <td>Counter-Strike</td>\n",
       "      <td>93.0</td>\n",
       "    </tr>\n",
       "    <tr>\n",
       "      <th>4</th>\n",
       "      <td>Counter-Strike</td>\n",
       "      <td>108.0</td>\n",
       "    </tr>\n",
       "    <tr>\n",
       "      <th>...</th>\n",
       "      <td>...</td>\n",
       "      <td>...</td>\n",
       "    </tr>\n",
       "    <tr>\n",
       "      <th>4294252</th>\n",
       "      <td>NOBUNAGA'S AMBITION: Sphere of Influence - Asc...</td>\n",
       "      <td>51.0</td>\n",
       "    </tr>\n",
       "    <tr>\n",
       "      <th>4294253</th>\n",
       "      <td>Alienware Steam Machine</td>\n",
       "      <td>0.0</td>\n",
       "    </tr>\n",
       "    <tr>\n",
       "      <th>4294254</th>\n",
       "      <td>ChaosTower</td>\n",
       "      <td>164.0</td>\n",
       "    </tr>\n",
       "    <tr>\n",
       "      <th>4294255</th>\n",
       "      <td>Aveyond 4: Shadow of the Mist</td>\n",
       "      <td>0.0</td>\n",
       "    </tr>\n",
       "    <tr>\n",
       "      <th>4294256</th>\n",
       "      <td>Arachnophobia</td>\n",
       "      <td>7.0</td>\n",
       "    </tr>\n",
       "  </tbody>\n",
       "</table>\n",
       "<p>4294257 rows × 2 columns</p>\n",
       "</div>"
      ],
      "text/plain": [
       "                                                  app_name  playtime_forever\n",
       "0                                           Counter-Strike               6.0\n",
       "1                                           Counter-Strike               0.0\n",
       "2                                           Counter-Strike               0.0\n",
       "3                                           Counter-Strike              93.0\n",
       "4                                           Counter-Strike             108.0\n",
       "...                                                    ...               ...\n",
       "4294252  NOBUNAGA'S AMBITION: Sphere of Influence - Asc...              51.0\n",
       "4294253                            Alienware Steam Machine               0.0\n",
       "4294254                                         ChaosTower             164.0\n",
       "4294255                      Aveyond 4: Shadow of the Mist               0.0\n",
       "4294256                                      Arachnophobia               7.0\n",
       "\n",
       "[4294257 rows x 2 columns]"
      ]
     },
     "execution_count": 108,
     "metadata": {},
     "output_type": "execute_result"
    }
   ],
   "source": [
    "items"
   ]
  },
  {
   "cell_type": "code",
   "execution_count": 121,
   "metadata": {},
   "outputs": [],
   "source": [
    "items_agrupado = items.groupby(\"app_name\")[\"playtime_forever\"].sum().reset_index() # las agrupo por nombre de juego y sumo el tiempo de juego"
   ]
  },
  {
   "cell_type": "code",
   "execution_count": 123,
   "metadata": {},
   "outputs": [
    {
     "data": {
      "text/html": [
       "<div>\n",
       "<style scoped>\n",
       "    .dataframe tbody tr th:only-of-type {\n",
       "        vertical-align: middle;\n",
       "    }\n",
       "\n",
       "    .dataframe tbody tr th {\n",
       "        vertical-align: top;\n",
       "    }\n",
       "\n",
       "    .dataframe thead th {\n",
       "        text-align: right;\n",
       "    }\n",
       "</style>\n",
       "<table border=\"1\" class=\"dataframe\">\n",
       "  <thead>\n",
       "    <tr style=\"text-align: right;\">\n",
       "      <th></th>\n",
       "      <th>app_name</th>\n",
       "      <th>playtime_forever</th>\n",
       "    </tr>\n",
       "  </thead>\n",
       "  <tbody>\n",
       "    <tr>\n",
       "      <th>0</th>\n",
       "      <td>! That Bastard Is Trying To Steal Our Gold !</td>\n",
       "      <td>742.0</td>\n",
       "    </tr>\n",
       "  </tbody>\n",
       "</table>\n",
       "</div>"
      ],
      "text/plain": [
       "                                       app_name  playtime_forever\n",
       "0  ! That Bastard Is Trying To Steal Our Gold !             742.0"
      ]
     },
     "execution_count": 123,
     "metadata": {},
     "output_type": "execute_result"
    }
   ],
   "source": [
    "items_agrupado.head(1)"
   ]
  },
  {
   "cell_type": "code",
   "execution_count": 125,
   "metadata": {},
   "outputs": [],
   "source": [
    "tiempo_juego = items_agrupado.sort_values(\"playtime_forever\",ascending=False).reset_index() #las ordeno por mayor tiempo de juego "
   ]
  },
  {
   "cell_type": "code",
   "execution_count": 143,
   "metadata": {},
   "outputs": [
    {
     "data": {
      "text/html": [
       "<div>\n",
       "<style scoped>\n",
       "    .dataframe tbody tr th:only-of-type {\n",
       "        vertical-align: middle;\n",
       "    }\n",
       "\n",
       "    .dataframe tbody tr th {\n",
       "        vertical-align: top;\n",
       "    }\n",
       "\n",
       "    .dataframe thead th {\n",
       "        text-align: right;\n",
       "    }\n",
       "</style>\n",
       "<table border=\"1\" class=\"dataframe\">\n",
       "  <thead>\n",
       "    <tr style=\"text-align: right;\">\n",
       "      <th></th>\n",
       "      <th>index</th>\n",
       "      <th>app_name</th>\n",
       "      <th>playtime_forever</th>\n",
       "    </tr>\n",
       "  </thead>\n",
       "  <tbody>\n",
       "    <tr>\n",
       "      <th>0</th>\n",
       "      <td>1696</td>\n",
       "      <td>Counter-Strike: Global Offensive</td>\n",
       "      <td>785184267.0</td>\n",
       "    </tr>\n",
       "    <tr>\n",
       "      <th>1</th>\n",
       "      <td>3209</td>\n",
       "      <td>Garry's Mod</td>\n",
       "      <td>448366616.0</td>\n",
       "    </tr>\n",
       "    <tr>\n",
       "      <th>2</th>\n",
       "      <td>7632</td>\n",
       "      <td>Terraria</td>\n",
       "      <td>154974541.0</td>\n",
       "    </tr>\n",
       "    <tr>\n",
       "      <th>3</th>\n",
       "      <td>8737</td>\n",
       "      <td>Warframe</td>\n",
       "      <td>124027703.0</td>\n",
       "    </tr>\n",
       "    <tr>\n",
       "      <th>4</th>\n",
       "      <td>1697</td>\n",
       "      <td>Counter-Strike: Source</td>\n",
       "      <td>112612047.0</td>\n",
       "    </tr>\n",
       "    <tr>\n",
       "      <th>...</th>\n",
       "      <td>...</td>\n",
       "      <td>...</td>\n",
       "      <td>...</td>\n",
       "    </tr>\n",
       "    <tr>\n",
       "      <th>9184</th>\n",
       "      <td>8443</td>\n",
       "      <td>UfoPilot : Astro-Creeps Elite</td>\n",
       "      <td>0.0</td>\n",
       "    </tr>\n",
       "    <tr>\n",
       "      <th>9185</th>\n",
       "      <td>1657</td>\n",
       "      <td>Cooking Academy Fire and Knives</td>\n",
       "      <td>0.0</td>\n",
       "    </tr>\n",
       "    <tr>\n",
       "      <th>9186</th>\n",
       "      <td>1644</td>\n",
       "      <td>Containment Protocol</td>\n",
       "      <td>0.0</td>\n",
       "    </tr>\n",
       "    <tr>\n",
       "      <th>9187</th>\n",
       "      <td>7158</td>\n",
       "      <td>Spud!</td>\n",
       "      <td>0.0</td>\n",
       "    </tr>\n",
       "    <tr>\n",
       "      <th>9188</th>\n",
       "      <td>7781</td>\n",
       "      <td>The Emptiness Deluxe Edition</td>\n",
       "      <td>0.0</td>\n",
       "    </tr>\n",
       "  </tbody>\n",
       "</table>\n",
       "<p>9189 rows × 3 columns</p>\n",
       "</div>"
      ],
      "text/plain": [
       "      index                          app_name  playtime_forever\n",
       "0      1696  Counter-Strike: Global Offensive       785184267.0\n",
       "1      3209                       Garry's Mod       448366616.0\n",
       "2      7632                          Terraria       154974541.0\n",
       "3      8737                          Warframe       124027703.0\n",
       "4      1697            Counter-Strike: Source       112612047.0\n",
       "...     ...                               ...               ...\n",
       "9184   8443     UfoPilot : Astro-Creeps Elite               0.0\n",
       "9185   1657   Cooking Academy Fire and Knives               0.0\n",
       "9186   1644              Containment Protocol               0.0\n",
       "9187   7158                             Spud!               0.0\n",
       "9188   7781      The Emptiness Deluxe Edition               0.0\n",
       "\n",
       "[9189 rows x 3 columns]"
      ]
     },
     "execution_count": 143,
     "metadata": {},
     "output_type": "execute_result"
    }
   ],
   "source": [
    "tiempo_juego"
   ]
  },
  {
   "cell_type": "code",
   "execution_count": 146,
   "metadata": {},
   "outputs": [],
   "source": [
    "tiempo_juego = tiempo_juego.drop(columns=\"index\")"
   ]
  },
  {
   "cell_type": "code",
   "execution_count": 186,
   "metadata": {},
   "outputs": [],
   "source": [
    "top5= tiempo_juego.head(5) # tomo los 10 juegos mas jugados en tiempo"
   ]
  },
  {
   "cell_type": "code",
   "execution_count": 187,
   "metadata": {},
   "outputs": [
    {
     "data": {
      "text/html": [
       "<div>\n",
       "<style scoped>\n",
       "    .dataframe tbody tr th:only-of-type {\n",
       "        vertical-align: middle;\n",
       "    }\n",
       "\n",
       "    .dataframe tbody tr th {\n",
       "        vertical-align: top;\n",
       "    }\n",
       "\n",
       "    .dataframe thead th {\n",
       "        text-align: right;\n",
       "    }\n",
       "</style>\n",
       "<table border=\"1\" class=\"dataframe\">\n",
       "  <thead>\n",
       "    <tr style=\"text-align: right;\">\n",
       "      <th></th>\n",
       "      <th>app_name</th>\n",
       "      <th>playtime_forever</th>\n",
       "    </tr>\n",
       "  </thead>\n",
       "  <tbody>\n",
       "    <tr>\n",
       "      <th>0</th>\n",
       "      <td>Counter-Strike: Global Offensive</td>\n",
       "      <td>785184267.0</td>\n",
       "    </tr>\n",
       "    <tr>\n",
       "      <th>1</th>\n",
       "      <td>Garry's Mod</td>\n",
       "      <td>448366616.0</td>\n",
       "    </tr>\n",
       "    <tr>\n",
       "      <th>2</th>\n",
       "      <td>Terraria</td>\n",
       "      <td>154974541.0</td>\n",
       "    </tr>\n",
       "    <tr>\n",
       "      <th>3</th>\n",
       "      <td>Warframe</td>\n",
       "      <td>124027703.0</td>\n",
       "    </tr>\n",
       "    <tr>\n",
       "      <th>4</th>\n",
       "      <td>Counter-Strike: Source</td>\n",
       "      <td>112612047.0</td>\n",
       "    </tr>\n",
       "  </tbody>\n",
       "</table>\n",
       "</div>"
      ],
      "text/plain": [
       "                           app_name  playtime_forever\n",
       "0  Counter-Strike: Global Offensive       785184267.0\n",
       "1                       Garry's Mod       448366616.0\n",
       "2                          Terraria       154974541.0\n",
       "3                          Warframe       124027703.0\n",
       "4            Counter-Strike: Source       112612047.0"
      ]
     },
     "execution_count": 187,
     "metadata": {},
     "output_type": "execute_result"
    }
   ],
   "source": [
    "top5"
   ]
  },
  {
   "cell_type": "code",
   "execution_count": 188,
   "metadata": {},
   "outputs": [
    {
     "data": {
      "image/png": "[encoded data removed]",
      "text/plain": [
       "<Figure size 1000x600 with 1 Axes>"
      ]
     },
     "metadata": {},
     "output_type": "display_data"
    }
   ],
   "source": [
    "\n",
    "# Creo un grafico de barras para el top 10 de developer con mas usuarios\n",
    "plt.figure(figsize=(10, 6))\n",
    "plt.bar(top5[\"app_name\"], top5[\"playtime_forever\"])\n",
    "plt.xlabel(\"Juegos\")\n",
    "plt.ylabel(\"Horas de juego\")\n",
    "plt.title(\"Juegos con mas tiempo jugado\")\n",
    "plt.xticks(rotation=45)  # Rotar las etiquetas en el eje x para mayor legibilidad\n",
    "\n",
    "plt.show()"
   ]
  },
  {
   "cell_type": "markdown",
   "metadata": {},
   "source": [
    "# Generos mas jugados"
   ]
  },
  {
   "cell_type": "code",
   "execution_count": 161,
   "metadata": {},
   "outputs": [],
   "source": [
    "from collections import Counter"
   ]
  },
  {
   "cell_type": "code",
   "execution_count": 189,
   "metadata": {},
   "outputs": [],
   "source": [
    "#Convierte las columnas de genero en una lista\n",
    "lista_generos = ['Accounting','Action', 'Adventure', 'Animation &amp; Modeling','Casual','Design &amp; Illustration', 'Early Access','Education','Free to Play', 'Indie', 'Massively Multiplayer','Photo Editing', 'RPG', 'Racing', 'Simulation','Software Training', 'Sports', 'Strategy','Utilities', 'Video Production', 'Web Publishing']\n",
    "for i in lista_generos:\n",
    "    items_y_steam[i] = items_y_steam[i].astype('int32')"
   ]
  },
  {
   "cell_type": "code",
   "execution_count": 190,
   "metadata": {},
   "outputs": [],
   "source": [
    "# Defino una funcion de conteo para usarla con la lista de generos\n",
    "def conteo_de_frecuencia(df, lista):\n",
    "    aux_list = []\n",
    "    for i in lista:\n",
    "        aux_list.append((i, round((len(df.loc[df[i] == 1])), 2)))\n",
    "    aux_list = dict(aux_list)\n",
    "    contador = Counter(aux_list)\n",
    "    return contador"
   ]
  },
  {
   "cell_type": "code",
   "execution_count": 191,
   "metadata": {},
   "outputs": [],
   "source": [
    "#Crea y ordena el DataFrame por los valores de frecuencia en orden descendente\n",
    "lista = conteo_de_frecuencia(items_y_steam, lista_generos)"
   ]
  },
  {
   "cell_type": "code",
   "execution_count": 192,
   "metadata": {},
   "outputs": [
    {
     "data": {
      "text/plain": [
       "Counter({'Action': 2808730,\n",
       "         'Indie': 1764035,\n",
       "         'Adventure': 1166043,\n",
       "         'RPG': 911629,\n",
       "         'Strategy': 803709,\n",
       "         'Free to Play': 754561,\n",
       "         'Simulation': 536340,\n",
       "         'Casual': 500418,\n",
       "         'Massively Multiplayer': 372342,\n",
       "         'Early Access': 123862,\n",
       "         'Sports': 108578,\n",
       "         'Racing': 102615,\n",
       "         'Utilities': 9816,\n",
       "         'Design &amp; Illustration': 8692,\n",
       "         'Animation &amp; Modeling': 7160,\n",
       "         'Video Production': 4607,\n",
       "         'Web Publishing': 3857,\n",
       "         'Education': 3096,\n",
       "         'Software Training': 2381,\n",
       "         'Photo Editing': 596,\n",
       "         'Accounting': 0})"
      ]
     },
     "execution_count": 192,
     "metadata": {},
     "output_type": "execute_result"
    }
   ],
   "source": [
    "lista"
   ]
  },
  {
   "cell_type": "code",
   "execution_count": 198,
   "metadata": {},
   "outputs": [],
   "source": [
    "datos = pd.DataFrame.from_dict(lista, orient=\"index\", columns=[\"cantidad_usr\"]) # pasamos la lista a un dataframe"
   ]
  },
  {
   "cell_type": "code",
   "execution_count": 199,
   "metadata": {},
   "outputs": [
    {
     "data": {
      "text/html": [
       "<div>\n",
       "<style scoped>\n",
       "    .dataframe tbody tr th:only-of-type {\n",
       "        vertical-align: middle;\n",
       "    }\n",
       "\n",
       "    .dataframe tbody tr th {\n",
       "        vertical-align: top;\n",
       "    }\n",
       "\n",
       "    .dataframe thead th {\n",
       "        text-align: right;\n",
       "    }\n",
       "</style>\n",
       "<table border=\"1\" class=\"dataframe\">\n",
       "  <thead>\n",
       "    <tr style=\"text-align: right;\">\n",
       "      <th></th>\n",
       "      <th>cantidad_usr</th>\n",
       "    </tr>\n",
       "  </thead>\n",
       "  <tbody>\n",
       "    <tr>\n",
       "      <th>Accounting</th>\n",
       "      <td>0</td>\n",
       "    </tr>\n",
       "    <tr>\n",
       "      <th>Action</th>\n",
       "      <td>2808730</td>\n",
       "    </tr>\n",
       "    <tr>\n",
       "      <th>Adventure</th>\n",
       "      <td>1166043</td>\n",
       "    </tr>\n",
       "    <tr>\n",
       "      <th>Animation &amp;amp; Modeling</th>\n",
       "      <td>7160</td>\n",
       "    </tr>\n",
       "    <tr>\n",
       "      <th>Casual</th>\n",
       "      <td>500418</td>\n",
       "    </tr>\n",
       "  </tbody>\n",
       "</table>\n",
       "</div>"
      ],
      "text/plain": [
       "                          cantidad_usr\n",
       "Accounting                           0\n",
       "Action                         2808730\n",
       "Adventure                      1166043\n",
       "Animation &amp; Modeling          7160\n",
       "Casual                          500418"
      ]
     },
     "execution_count": 199,
     "metadata": {},
     "output_type": "execute_result"
    }
   ],
   "source": [
    "datos.head()"
   ]
  },
  {
   "cell_type": "code",
   "execution_count": 200,
   "metadata": {},
   "outputs": [],
   "source": [
    "datos = datos.sort_values(by=\"cantidad_usr\", ascending=False) # la ordenamos de manera descendente"
   ]
  },
  {
   "cell_type": "code",
   "execution_count": 201,
   "metadata": {},
   "outputs": [
    {
     "data": {
      "text/html": [
       "<div>\n",
       "<style scoped>\n",
       "    .dataframe tbody tr th:only-of-type {\n",
       "        vertical-align: middle;\n",
       "    }\n",
       "\n",
       "    .dataframe tbody tr th {\n",
       "        vertical-align: top;\n",
       "    }\n",
       "\n",
       "    .dataframe thead th {\n",
       "        text-align: right;\n",
       "    }\n",
       "</style>\n",
       "<table border=\"1\" class=\"dataframe\">\n",
       "  <thead>\n",
       "    <tr style=\"text-align: right;\">\n",
       "      <th></th>\n",
       "      <th>cantidad_usr</th>\n",
       "    </tr>\n",
       "  </thead>\n",
       "  <tbody>\n",
       "    <tr>\n",
       "      <th>Action</th>\n",
       "      <td>2808730</td>\n",
       "    </tr>\n",
       "  </tbody>\n",
       "</table>\n",
       "</div>"
      ],
      "text/plain": [
       "        cantidad_usr\n",
       "Action       2808730"
      ]
     },
     "execution_count": 201,
     "metadata": {},
     "output_type": "execute_result"
    }
   ],
   "source": [
    "datos.head(1)"
   ]
  },
  {
   "cell_type": "code",
   "execution_count": 202,
   "metadata": {},
   "outputs": [
    {
     "name": "stderr",
     "output_type": "stream",
     "text": [
      "C:\\Users\\Usuario\\AppData\\Local\\Temp\\ipykernel_2068\\3353619403.py:2: FutureWarning: \n",
      "\n",
      "Passing `palette` without assigning `hue` is deprecated and will be removed in v0.14.0. Assign the `y` variable to `hue` and set `legend=False` for the same effect.\n",
      "\n",
      "  sns.barplot(x=\"cantidad_usr\", y=datos.index, data=datos, palette=\"Set1\")\n"
     ]
    },
    {
     "data": {
      "image/png": "[encoded data removed]",
      "text/plain": [
       "<Figure size 1200x600 with 1 Axes>"
      ]
     },
     "metadata": {},
     "output_type": "display_data"
    }
   ],
   "source": [
    "plt.figure(figsize=(12, 6))\n",
    "sns.barplot(x=\"cantidad_usr\", y=datos.index, data=datos, palette=\"Set1\")\n",
    "\n",
    "#Rota las etiquetas del eje x para que sean legibles\n",
    "plt.xticks(rotation=90)\n",
    "\n",
    "plt.xlabel(\"cantidad_usr\")\n",
    "plt.ylabel(\"Genero\")\n",
    "plt.title(\"Genero mas jugado\")\n",
    "\n",
    "#Muestro el gráfico\n",
    "plt.tight_layout()\n",
    "plt.show()"
   ]
  }
 ],
 "metadata": {
  "kernelspec": {
   "display_name": "Python 3",
   "language": "python",
   "name": "python3"
  },
  "language_info": {
   "codemirror_mode": {
    "name": "ipython",
    "version": 3
   },
   "file_extension": ".py",
   "mimetype": "text/x-python",
   "name": "python",
   "nbconvert_exporter": "python",
   "pygments_lexer": "ipython3",
   "version": "3.11.4"
  }
 },
 "nbformat": 4,
 "nbformat_minor": 2
}
