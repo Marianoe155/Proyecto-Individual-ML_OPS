{
 "cells": [
  {
   "cell_type": "code",
   "execution_count": 10,
   "metadata": {},
   "outputs": [],
   "source": [
    "import pandas as pd\n",
    "from memory_profiler import profile"
   ]
  },
  {
   "cell_type": "code",
   "execution_count": 4,
   "metadata": {},
   "outputs": [],
   "source": [
    "df1 = pd.read_parquet(\"clean_steam_games\")\n",
    "df2 = pd.read_parquet(\"clean_review\")"
   ]
  },
  {
   "cell_type": "code",
   "execution_count": 5,
   "metadata": {},
   "outputs": [],
   "source": [
    "df_merge_review = pd.merge(df1, df2, on=\"item_id\")"
   ]
  },
  {
   "cell_type": "code",
   "execution_count": 63,
   "metadata": {},
   "outputs": [],
   "source": [
    "def best_developer_year_(año):\n",
    "    merge = df_merge_review[[\"Año_posteo\",\"recommend\",\"sentiment_analysis\",\"developer\",\"app_name\"]]\n",
    "    merge[\"Año_posteo\"].fillna(0, inplace=True)\n",
    "    merge[\"Año_posteo\"]= merge[\"Año_posteo\"].astype(\"int\")\n",
    "    filtro =merge[merge[\"Año_posteo\"] == año]\n",
    "    recomendacion = filtro[filtro[\"recommend\"] == True][filtro[\"sentiment_analysis\"] == 2].groupby(\"developer\")[\"app_name\"].count()\n",
    "    reinicio = recomendacion.reset_index()\n",
    "    top_desarrolladores = reinicio.sort_values(\"app_name\", ascending=False)\n",
    "    top3 = top_desarrolladores.head(3)\n",
    "    top3 = top3[\"developer\"].to_list()\n",
    "\n",
    "    return top3"
   ]
  },
  {
   "cell_type": "code",
   "execution_count": 65,
   "metadata": {},
   "outputs": [
    {
     "name": "stderr",
     "output_type": "stream",
     "text": [
      "C:\\Users\\Usuario\\AppData\\Local\\Temp\\ipykernel_18564\\896407011.py:3: SettingWithCopyWarning: \n",
      "A value is trying to be set on a copy of a slice from a DataFrame\n",
      "\n",
      "See the caveats in the documentation: https://pandas.pydata.org/pandas-docs/stable/user_guide/indexing.html#returning-a-view-versus-a-copy\n",
      "  merge[\"Año_posteo\"].fillna(0, inplace=True)\n",
      "C:\\Users\\Usuario\\AppData\\Local\\Temp\\ipykernel_18564\\896407011.py:4: SettingWithCopyWarning: \n",
      "A value is trying to be set on a copy of a slice from a DataFrame.\n",
      "Try using .loc[row_indexer,col_indexer] = value instead\n",
      "\n",
      "See the caveats in the documentation: https://pandas.pydata.org/pandas-docs/stable/user_guide/indexing.html#returning-a-view-versus-a-copy\n",
      "  merge[\"Año_posteo\"]= merge[\"Año_posteo\"].astype(\"int\")\n",
      "C:\\Users\\Usuario\\AppData\\Local\\Temp\\ipykernel_18564\\896407011.py:6: UserWarning: Boolean Series key will be reindexed to match DataFrame index.\n",
      "  recomendacion = filtro[filtro[\"recommend\"] == True][filtro[\"sentiment_analysis\"] == 2].groupby(\"developer\")[\"app_name\"].count()\n"
     ]
    },
    {
     "data": {
      "text/plain": [
       "['Valve', 'Facepunch Studios', 'Smartly Dressed Games']"
      ]
     },
     "execution_count": 65,
     "metadata": {},
     "output_type": "execute_result"
    }
   ],
   "source": [
    "best_developer_year_(2015)"
   ]
  },
  {
   "cell_type": "code",
   "execution_count": 23,
   "metadata": {},
   "outputs": [
    {
     "data": {
      "text/html": [
       "<div>\n",
       "<style scoped>\n",
       "    .dataframe tbody tr th:only-of-type {\n",
       "        vertical-align: middle;\n",
       "    }\n",
       "\n",
       "    .dataframe tbody tr th {\n",
       "        vertical-align: top;\n",
       "    }\n",
       "\n",
       "    .dataframe thead th {\n",
       "        text-align: right;\n",
       "    }\n",
       "</style>\n",
       "<table border=\"1\" class=\"dataframe\">\n",
       "  <thead>\n",
       "    <tr style=\"text-align: right;\">\n",
       "      <th></th>\n",
       "      <th>Año_posteo</th>\n",
       "      <th>recommend</th>\n",
       "      <th>sentiment_analysis</th>\n",
       "      <th>developer</th>\n",
       "      <th>app_name</th>\n",
       "    </tr>\n",
       "  </thead>\n",
       "  <tbody>\n",
       "    <tr>\n",
       "      <th>0</th>\n",
       "      <td>0</td>\n",
       "      <td>True</td>\n",
       "      <td>1</td>\n",
       "      <td>Stainless Games Ltd</td>\n",
       "      <td>Carmageddon Max Pack</td>\n",
       "    </tr>\n",
       "  </tbody>\n",
       "</table>\n",
       "</div>"
      ],
      "text/plain": [
       "   Año_posteo recommend  sentiment_analysis            developer  \\\n",
       "0           0      True                   1  Stainless Games Ltd   \n",
       "\n",
       "               app_name  \n",
       "0  Carmageddon Max Pack  "
      ]
     },
     "execution_count": 23,
     "metadata": {},
     "output_type": "execute_result"
    }
   ],
   "source": [
    "merge.head(1)"
   ]
  },
  {
   "cell_type": "code",
   "execution_count": 12,
   "metadata": {},
   "outputs": [
    {
     "data": {
      "text/html": [
       "<div>\n",
       "<style scoped>\n",
       "    .dataframe tbody tr th:only-of-type {\n",
       "        vertical-align: middle;\n",
       "    }\n",
       "\n",
       "    .dataframe tbody tr th {\n",
       "        vertical-align: top;\n",
       "    }\n",
       "\n",
       "    .dataframe thead th {\n",
       "        text-align: right;\n",
       "    }\n",
       "</style>\n",
       "<table border=\"1\" class=\"dataframe\">\n",
       "  <thead>\n",
       "    <tr style=\"text-align: right;\">\n",
       "      <th></th>\n",
       "      <th>item_id</th>\n",
       "      <th>app_name</th>\n",
       "      <th>price</th>\n",
       "      <th>developer</th>\n",
       "      <th>Accounting</th>\n",
       "      <th>Action</th>\n",
       "      <th>Adventure</th>\n",
       "      <th>Animation &amp;amp; Modeling</th>\n",
       "      <th>Audio Production</th>\n",
       "      <th>Casual</th>\n",
       "      <th>...</th>\n",
       "      <th>Sports</th>\n",
       "      <th>Strategy</th>\n",
       "      <th>Utilities</th>\n",
       "      <th>Video Production</th>\n",
       "      <th>Web Publishing</th>\n",
       "      <th>Año_lanzamiento</th>\n",
       "      <th>user_id</th>\n",
       "      <th>recommend</th>\n",
       "      <th>sentiment_analysis</th>\n",
       "      <th>Año_posteo</th>\n",
       "    </tr>\n",
       "  </thead>\n",
       "  <tbody>\n",
       "    <tr>\n",
       "      <th>0</th>\n",
       "      <td>282010</td>\n",
       "      <td>Carmageddon Max Pack</td>\n",
       "      <td>9.99</td>\n",
       "      <td>Stainless Games Ltd</td>\n",
       "      <td>0</td>\n",
       "      <td>1</td>\n",
       "      <td>0</td>\n",
       "      <td>0</td>\n",
       "      <td>0</td>\n",
       "      <td>0</td>\n",
       "      <td>...</td>\n",
       "      <td>0</td>\n",
       "      <td>0</td>\n",
       "      <td>0</td>\n",
       "      <td>0</td>\n",
       "      <td>0</td>\n",
       "      <td>1997.0</td>\n",
       "      <td>InstigatorAU</td>\n",
       "      <td>True</td>\n",
       "      <td>1</td>\n",
       "      <td>NaN</td>\n",
       "    </tr>\n",
       "  </tbody>\n",
       "</table>\n",
       "<p>1 rows × 31 columns</p>\n",
       "</div>"
      ],
      "text/plain": [
       "   item_id              app_name  price            developer  Accounting  \\\n",
       "0   282010  Carmageddon Max Pack   9.99  Stainless Games Ltd           0   \n",
       "\n",
       "   Action  Adventure  Animation &amp; Modeling  Audio Production  Casual  ...  \\\n",
       "0       1          0                         0                 0       0  ...   \n",
       "\n",
       "   Sports  Strategy  Utilities  Video Production  Web Publishing  \\\n",
       "0       0         0          0                 0               0   \n",
       "\n",
       "   Año_lanzamiento       user_id  recommend  sentiment_analysis  Año_posteo  \n",
       "0           1997.0  InstigatorAU       True                   1         NaN  \n",
       "\n",
       "[1 rows x 31 columns]"
      ]
     },
     "execution_count": 12,
     "metadata": {},
     "output_type": "execute_result"
    }
   ],
   "source": [
    "df_merge_review.head(1)"
   ]
  },
  {
   "cell_type": "code",
   "execution_count": 19,
   "metadata": {},
   "outputs": [
    {
     "name": "stdout",
     "output_type": "stream",
     "text": [
      "The memory_profiler extension is already loaded. To reload it, use:\n",
      "  %reload_ext memory_profiler\n"
     ]
    }
   ],
   "source": [
    "%load_ext memory_profiler"
   ]
  },
  {
   "cell_type": "code",
   "execution_count": 14,
   "metadata": {},
   "outputs": [
    {
     "name": "stderr",
     "output_type": "stream",
     "text": [
      "UsageError: %%memit is a cell magic, but the cell body is empty. Did you mean the line magic %memit (single %)?\n"
     ]
    }
   ],
   "source": [
    "%%memit"
   ]
  },
  {
   "cell_type": "code",
   "execution_count": null,
   "metadata": {},
   "outputs": [],
   "source": [
    "\n",
    "df_merge_review = pd.merge(df1 ,df2, on=\"item_id\")\n",
    "#modifico el DataFrame\n",
    "df_modf = df_merge_review.rename(columns={\"Año_posteo\": \"año\"})\n",
    "df_modf = df_modf[[\"año\",\"recommend\",\"sentiment_analysis\",\"developer\",\"app_name\"]] "
   ]
  },
  {
   "cell_type": "code",
   "execution_count": 26,
   "metadata": {},
   "outputs": [],
   "source": [
    "#f4\n",
    "#%load_ext memory_profiler\n",
    "\n",
    "\n",
    "def best_developer_year(año):\n",
    "    df_modf[\"año\"].fillna(0,inplace=True) #reemplazo los años nulos por cero\n",
    "\n",
    "    df_modf[\"año\"] = df_modf[\"año\"].astype(\"int\") #paso la columna año en int\n",
    "\n",
    "    # Filtrar los juegos por año\n",
    "    df_año = df_modf[df_modf[\"año\"] == año]\n",
    "\n",
    "    # Agrupar los juegos por desarrollador y contar el número de juegos recomendados\n",
    "    df_count = df_año[df_año[\"recommend\"] == True][df_año[\"sentiment_analysis\"] == 2].groupby(\"developer\")[\"app_name\"].count()\n",
    "\n",
    "    df_count = df_count.reset_index()\n",
    "    # Ordenar los resultados por número de juegos recomendados y devolver los tres primeros desarrolladores\n",
    "    top_desarrolladores = df_count.sort_values(\"app_name\", ascending=False).head(3)[\"developer\"].to_list()\n",
    "\n",
    "    # Devolver el top 3 de desarrolladores\n",
    "    top_3 = f\"Puesto1:{top_desarrolladores[0]}, Puesto2:{top_desarrolladores[1]}, Puesto3:{top_desarrolladores[2]}\"\n",
    "    return top_3"
   ]
  },
  {
   "cell_type": "code",
   "execution_count": 27,
   "metadata": {},
   "outputs": [
    {
     "name": "stderr",
     "output_type": "stream",
     "text": [
      "C:\\Users\\Usuario\\AppData\\Local\\Temp\\ipykernel_16776\\3282123346.py:14: UserWarning: Boolean Series key will be reindexed to match DataFrame index.\n",
      "  df_count = df_año[df_año[\"recommend\"] == True][df_año[\"sentiment_analysis\"] == 2].groupby(\"developer\")[\"app_name\"].count()\n"
     ]
    },
    {
     "name": "stdout",
     "output_type": "stream",
     "text": [
      "peak memory: 109.07 MiB, increment: 8.76 MiB\n"
     ]
    }
   ],
   "source": [
    "%memit best_developer_year(2015)"
   ]
  }
 ],
 "metadata": {
  "kernelspec": {
   "display_name": "Python 3",
   "language": "python",
   "name": "python3"
  },
  "language_info": {
   "codemirror_mode": {
    "name": "ipython",
    "version": 3
   },
   "file_extension": ".py",
   "mimetype": "text/x-python",
   "name": "python",
   "nbconvert_exporter": "python",
   "pygments_lexer": "ipython3",
   "version": "3.11.4"
  }
 },
 "nbformat": 4,
 "nbformat_minor": 2
}
