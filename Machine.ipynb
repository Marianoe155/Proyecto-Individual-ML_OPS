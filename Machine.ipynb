{
 "cells": [
  {
   "cell_type": "code",
   "execution_count": 64,
   "metadata": {},
   "outputs": [],
   "source": [
    "from surprise import Dataset\n",
    "import pandas as pd\n",
    "from surprise import Dataset, Reader\n",
    "from surprise import Reader\n",
    "from surprise import SVD\n",
    "from surprise.model_selection import train_test_split\n",
    "from surprise import accuracy\n",
    "import gzip\n",
    "\n"
   ]
  },
  {
   "cell_type": "code",
   "execution_count": 65,
   "metadata": {},
   "outputs": [],
   "source": [
    "opinion = pd.read_csv(r'data_set_limpio/reviews_preparado.csv.gz')"
   ]
  },
  {
   "cell_type": "code",
   "execution_count": 66,
   "metadata": {},
   "outputs": [],
   "source": [
    "df = pd.read_csv(r'data_set_limpio/games_preparado.csv.gz')"
   ]
  },
  {
   "cell_type": "code",
   "execution_count": 67,
   "metadata": {},
   "outputs": [],
   "source": [
    "prueba1 = pd.merge(opinion[['item_id','user','recommend','opinion']], df[['id','app_name']], left_on='item_id', right_on='id')\n",
    "\n",
    "prueba1['recommend'] = prueba1['recommend'].replace({True: 1, False: 0})"
   ]
  },
  {
   "cell_type": "code",
   "execution_count": 68,
   "metadata": {},
   "outputs": [
    {
     "name": "stderr",
     "output_type": "stream",
     "text": [
      "C:\\Users\\jonat\\AppData\\Local\\Temp\\ipykernel_7532\\2034525896.py:2: FutureWarning: Series.__getitem__ treating keys as positions is deprecated. In a future version, integer keys will always be treated as labels (consistent with DataFrame behavior). To access a value by position, use `ser.iloc[pos]`\n",
      "  if (row[2] == 1) and (row[3] == 2):\n",
      "C:\\Users\\jonat\\AppData\\Local\\Temp\\ipykernel_7532\\2034525896.py:2: FutureWarning: Series.__getitem__ treating keys as positions is deprecated. In a future version, integer keys will always be treated as labels (consistent with DataFrame behavior). To access a value by position, use `ser.iloc[pos]`\n",
      "  if (row[2] == 1) and (row[3] == 2):\n",
      "C:\\Users\\jonat\\AppData\\Local\\Temp\\ipykernel_7532\\2034525896.py:4: FutureWarning: Series.__getitem__ treating keys as positions is deprecated. In a future version, integer keys will always be treated as labels (consistent with DataFrame behavior). To access a value by position, use `ser.iloc[pos]`\n",
      "  elif (row[2] == 1) and (row[3] == 1):\n",
      "C:\\Users\\jonat\\AppData\\Local\\Temp\\ipykernel_7532\\2034525896.py:6: FutureWarning: Series.__getitem__ treating keys as positions is deprecated. In a future version, integer keys will always be treated as labels (consistent with DataFrame behavior). To access a value by position, use `ser.iloc[pos]`\n",
      "  elif (row[2] == 1) and (row[3] == 0):\n",
      "C:\\Users\\jonat\\AppData\\Local\\Temp\\ipykernel_7532\\2034525896.py:8: FutureWarning: Series.__getitem__ treating keys as positions is deprecated. In a future version, integer keys will always be treated as labels (consistent with DataFrame behavior). To access a value by position, use `ser.iloc[pos]`\n",
      "  elif (row[2] == 0) and (row[3] == 2):\n",
      "C:\\Users\\jonat\\AppData\\Local\\Temp\\ipykernel_7532\\2034525896.py:10: FutureWarning: Series.__getitem__ treating keys as positions is deprecated. In a future version, integer keys will always be treated as labels (consistent with DataFrame behavior). To access a value by position, use `ser.iloc[pos]`\n",
      "  elif (row[2] == 0) and (row[3] == 1):\n",
      "C:\\Users\\jonat\\AppData\\Local\\Temp\\ipykernel_7532\\2034525896.py:12: FutureWarning: Series.__getitem__ treating keys as positions is deprecated. In a future version, integer keys will always be treated as labels (consistent with DataFrame behavior). To access a value by position, use `ser.iloc[pos]`\n",
      "  elif (row[2] == 0) and (row[3] == 0):\n"
     ]
    }
   ],
   "source": [
    "for index, row in prueba1.iterrows():\n",
    "    if (row[2] == 1) and (row[3] == 2):\n",
    "        prueba1.at[index, 'rating'] = 3\n",
    "    elif (row[2] == 1) and (row[3] == 1):\n",
    "        prueba1.at[index, 'rating'] = 2\n",
    "    elif (row[2] == 1) and (row[3] == 0):\n",
    "        prueba1.at[index, 'rating'] = 1\n",
    "    elif (row[2] == 0) and (row[3] == 2):\n",
    "        prueba1.at[index, 'rating'] = 2\n",
    "    elif (row[2] == 0) and (row[3] == 1):\n",
    "        prueba1.at[index, 'rating'] = 1\n",
    "    elif (row[2] == 0) and (row[3] == 0):\n",
    "        prueba1.at[index, 'rating'] = 0"
   ]
  },
  {
   "cell_type": "code",
   "execution_count": 69,
   "metadata": {},
   "outputs": [
    {
     "data": {
      "text/html": [
       "<div>\n",
       "<style scoped>\n",
       "    .dataframe tbody tr th:only-of-type {\n",
       "        vertical-align: middle;\n",
       "    }\n",
       "\n",
       "    .dataframe tbody tr th {\n",
       "        vertical-align: top;\n",
       "    }\n",
       "\n",
       "    .dataframe thead th {\n",
       "        text-align: right;\n",
       "    }\n",
       "</style>\n",
       "<table border=\"1\" class=\"dataframe\">\n",
       "  <thead>\n",
       "    <tr style=\"text-align: right;\">\n",
       "      <th></th>\n",
       "      <th>item_id</th>\n",
       "      <th>user</th>\n",
       "      <th>recommend</th>\n",
       "      <th>opinion</th>\n",
       "      <th>id</th>\n",
       "      <th>app_name</th>\n",
       "      <th>rating</th>\n",
       "    </tr>\n",
       "  </thead>\n",
       "  <tbody>\n",
       "    <tr>\n",
       "      <th>0</th>\n",
       "      <td>1250</td>\n",
       "      <td>76561197970982479</td>\n",
       "      <td>1</td>\n",
       "      <td>2</td>\n",
       "      <td>1250</td>\n",
       "      <td>Killing Floor</td>\n",
       "      <td>3.0</td>\n",
       "    </tr>\n",
       "    <tr>\n",
       "      <th>1</th>\n",
       "      <td>1250</td>\n",
       "      <td>death-hunter</td>\n",
       "      <td>1</td>\n",
       "      <td>2</td>\n",
       "      <td>1250</td>\n",
       "      <td>Killing Floor</td>\n",
       "      <td>3.0</td>\n",
       "    </tr>\n",
       "    <tr>\n",
       "      <th>2</th>\n",
       "      <td>1250</td>\n",
       "      <td>DJKamBer</td>\n",
       "      <td>1</td>\n",
       "      <td>1</td>\n",
       "      <td>1250</td>\n",
       "      <td>Killing Floor</td>\n",
       "      <td>2.0</td>\n",
       "    </tr>\n",
       "    <tr>\n",
       "      <th>3</th>\n",
       "      <td>1250</td>\n",
       "      <td>diego9031</td>\n",
       "      <td>1</td>\n",
       "      <td>0</td>\n",
       "      <td>1250</td>\n",
       "      <td>Killing Floor</td>\n",
       "      <td>1.0</td>\n",
       "    </tr>\n",
       "    <tr>\n",
       "      <th>4</th>\n",
       "      <td>1250</td>\n",
       "      <td>76561198081962345</td>\n",
       "      <td>1</td>\n",
       "      <td>0</td>\n",
       "      <td>1250</td>\n",
       "      <td>Killing Floor</td>\n",
       "      <td>1.0</td>\n",
       "    </tr>\n",
       "    <tr>\n",
       "      <th>...</th>\n",
       "      <td>...</td>\n",
       "      <td>...</td>\n",
       "      <td>...</td>\n",
       "      <td>...</td>\n",
       "      <td>...</td>\n",
       "      <td>...</td>\n",
       "      <td>...</td>\n",
       "    </tr>\n",
       "    <tr>\n",
       "      <th>49590</th>\n",
       "      <td>307130</td>\n",
       "      <td>llDracuwulf</td>\n",
       "      <td>1</td>\n",
       "      <td>2</td>\n",
       "      <td>307130</td>\n",
       "      <td>Asteria</td>\n",
       "      <td>3.0</td>\n",
       "    </tr>\n",
       "    <tr>\n",
       "      <th>49591</th>\n",
       "      <td>209120</td>\n",
       "      <td>ChrisCoroner</td>\n",
       "      <td>1</td>\n",
       "      <td>2</td>\n",
       "      <td>209120</td>\n",
       "      <td>Street Fighter X Tekken</td>\n",
       "      <td>3.0</td>\n",
       "    </tr>\n",
       "    <tr>\n",
       "      <th>49592</th>\n",
       "      <td>220090</td>\n",
       "      <td>MeloncraftLP</td>\n",
       "      <td>1</td>\n",
       "      <td>0</td>\n",
       "      <td>220090</td>\n",
       "      <td>The Journey Down: Chapter One</td>\n",
       "      <td>1.0</td>\n",
       "    </tr>\n",
       "    <tr>\n",
       "      <th>49593</th>\n",
       "      <td>262850</td>\n",
       "      <td>MeloncraftLP</td>\n",
       "      <td>1</td>\n",
       "      <td>0</td>\n",
       "      <td>262850</td>\n",
       "      <td>The Journey Down: Chapter Two</td>\n",
       "      <td>1.0</td>\n",
       "    </tr>\n",
       "    <tr>\n",
       "      <th>49594</th>\n",
       "      <td>431510</td>\n",
       "      <td>vinquility</td>\n",
       "      <td>1</td>\n",
       "      <td>2</td>\n",
       "      <td>431510</td>\n",
       "      <td>Mystic Destinies: Serendipity of Aeons</td>\n",
       "      <td>3.0</td>\n",
       "    </tr>\n",
       "  </tbody>\n",
       "</table>\n",
       "<p>49595 rows × 7 columns</p>\n",
       "</div>"
      ],
      "text/plain": [
       "       item_id               user  recommend  opinion      id  \\\n",
       "0         1250  76561197970982479          1        2    1250   \n",
       "1         1250       death-hunter          1        2    1250   \n",
       "2         1250           DJKamBer          1        1    1250   \n",
       "3         1250          diego9031          1        0    1250   \n",
       "4         1250  76561198081962345          1        0    1250   \n",
       "...        ...                ...        ...      ...     ...   \n",
       "49590   307130        llDracuwulf          1        2  307130   \n",
       "49591   209120       ChrisCoroner          1        2  209120   \n",
       "49592   220090       MeloncraftLP          1        0  220090   \n",
       "49593   262850       MeloncraftLP          1        0  262850   \n",
       "49594   431510         vinquility          1        2  431510   \n",
       "\n",
       "                                     app_name  rating  \n",
       "0                               Killing Floor     3.0  \n",
       "1                               Killing Floor     3.0  \n",
       "2                               Killing Floor     2.0  \n",
       "3                               Killing Floor     1.0  \n",
       "4                               Killing Floor     1.0  \n",
       "...                                       ...     ...  \n",
       "49590                                 Asteria     3.0  \n",
       "49591                 Street Fighter X Tekken     3.0  \n",
       "49592           The Journey Down: Chapter One     1.0  \n",
       "49593           The Journey Down: Chapter Two     1.0  \n",
       "49594  Mystic Destinies: Serendipity of Aeons     3.0  \n",
       "\n",
       "[49595 rows x 7 columns]"
      ]
     },
     "execution_count": 69,
     "metadata": {},
     "output_type": "execute_result"
    }
   ],
   "source": [
    "prueba1"
   ]
  },
  {
   "cell_type": "code",
   "execution_count": 70,
   "metadata": {},
   "outputs": [],
   "source": [
    "entrenar = prueba1[['user','app_name','rating']]"
   ]
  },
  {
   "cell_type": "code",
   "execution_count": 101,
   "metadata": {},
   "outputs": [
    {
     "name": "stdout",
     "output_type": "stream",
     "text": [
      "RMSE: 0.9163\n"
     ]
    },
    {
     "data": {
      "text/plain": [
       "0.9163361010750946"
      ]
     },
     "execution_count": 101,
     "metadata": {},
     "output_type": "execute_result"
    }
   ],
   "source": [
    "# Definir un lector para el formato de tus datos\n",
    "reader = Reader(rating_scale=(0, 3))  # Adaptar rating_scale a tus datos\n",
    "\n",
    "# Cargar los datos con el lector\n",
    "data = Dataset.load_from_df(entrenar, reader)\n",
    "\n",
    "# Dividir el conjunto de datos en entrenamiento y prueba\n",
    "trainset, testset = train_test_split(data, test_size=0.1)  # Puedes ajustar el tamaño de prueba\n",
    "\n",
    "# Seleccionar un algoritmo (por ejemplo, SVD) y entrenar el modelo\n",
    "model = SVD()\n",
    "model.fit(trainset)\n",
    "\n",
    "# Realizar predicciones en el conjunto de prueba\n",
    "predictions = model.test(testset)\n",
    "\n",
    "# Evaluar las predicciones\n",
    "accuracy.rmse(predictions)"
   ]
  },
  {
   "cell_type": "code",
   "execution_count": 93,
   "metadata": {},
   "outputs": [
    {
     "name": "stdout",
     "output_type": "stream",
     "text": [
      "Computing the msd similarity matrix...\n",
      "Done computing similarity matrix.\n",
      "RMSE: 0.9882\n"
     ]
    },
    {
     "data": {
      "text/plain": [
       "0.9882134417709891"
      ]
     },
     "execution_count": 93,
     "metadata": {},
     "output_type": "execute_result"
    }
   ],
   "source": [
    "from surprise import KNNBasic\n",
    "\n",
    "# Definir un lector para el formato de tus datos\n",
    "reader = Reader(rating_scale=(0, 3))  # Adaptar rating_scale a tus datos\n",
    "\n",
    "# Cargar los datos con el lector\n",
    "data = Dataset.load_from_df(entrenar, reader)\n",
    "\n",
    "# Dividir el conjunto de datos en entrenamiento y prueba\n",
    "trainset, testset = train_test_split(data, test_size=0.3)  # Puedes ajustar el tamaño de prueba\n",
    "\n",
    "# Seleccionar un algoritmo (por ejemplo, KNN) y entrenar el modelo\n",
    "model = KNNBasic()  # Seleccionar el algoritmo KNN\n",
    "model.fit(trainset)\n",
    "\n",
    "# Realizar predicciones en el conjunto de prueba\n",
    "predictions = model.test(testset)\n",
    "\n",
    "# Evaluar las predicciones\n",
    "accuracy.rmse(predictions)\n"
   ]
  },
  {
   "cell_type": "code",
   "execution_count": 102,
   "metadata": {},
   "outputs": [
    {
     "name": "stdout",
     "output_type": "stream",
     "text": [
      "Juego: Mass Effect 2, Valoración estimada: 2.9278932721441837\n",
      "Juego: King Arthur's Gold, Valoración estimada: 2.916207784708064\n",
      "Juego: Dust: An Elysian Tail, Valoración estimada: 2.9006307541850513\n",
      "Juego: Gunpoint, Valoración estimada: 2.8886750355282027\n",
      "Juego: Psychonauts, Valoración estimada: 2.8880674976435556\n",
      "Juego: RimWorld, Valoración estimada: 2.8828020742537612\n",
      "Juego: CrossCode, Valoración estimada: 2.8545041203214945\n",
      "Juego: Alien Swarm, Valoración estimada: 2.853988808878739\n",
      "Juego: Burnout Paradise: The Ultimate Box, Valoración estimada: 2.8459847618091114\n",
      "Juego: SNOW, Valoración estimada: 2.843880454332686\n"
     ]
    }
   ],
   "source": [
    "# ID del usuario para el cual quieres obtener recomendaciones\n",
    "usuario_especifico = '76561197970982479'  # Reemplaza 'js41637' con el ID del usuario para el que quieres las recomendaciones\n",
    "\n",
    "# Crear una lista de juegos ya valorados por el usuario específico\n",
    "juegos_valorados = prueba1[prueba1['user'] == usuario_especifico]['app_name'].unique()\n",
    "\n",
    "# Crear una lista de todos los juegos disponibles\n",
    "todos_los_juegos = prueba1['app_name'].unique()\n",
    "\n",
    "# Crear una lista de juegos no valorados por el usuario específico\n",
    "juegos_no_valorados = list(set(todos_los_juegos) - set(juegos_valorados))\n",
    "\n",
    "# Generar predicciones para los juegos no valorados por el usuario\n",
    "predicciones = [model.predict(usuario_especifico, juego) for juego in juegos_no_valorados]\n",
    "\n",
    "# Ordenar las predicciones en base a la valoración y obtener los juegos recomendados\n",
    "recomendaciones = sorted(predicciones, key=lambda x: x.est, reverse=True)[:10]  # Obtener las 5 mejores recomendaciones\n",
    "\n",
    "# Mostrar los juegos recomendados\n",
    "for recomendacion in recomendaciones:\n",
    "    print(f\"Juego: {recomendacion.iid}, Valoración estimada: {recomendacion.est}\")\n"
   ]
  },
  {
   "cell_type": "code",
   "execution_count": 104,
   "metadata": {},
   "outputs": [
    {
     "data": {
      "text/html": [
       "<div>\n",
       "<style scoped>\n",
       "    .dataframe tbody tr th:only-of-type {\n",
       "        vertical-align: middle;\n",
       "    }\n",
       "\n",
       "    .dataframe tbody tr th {\n",
       "        vertical-align: top;\n",
       "    }\n",
       "\n",
       "    .dataframe thead th {\n",
       "        text-align: right;\n",
       "    }\n",
       "</style>\n",
       "<table border=\"1\" class=\"dataframe\">\n",
       "  <thead>\n",
       "    <tr style=\"text-align: right;\">\n",
       "      <th></th>\n",
       "      <th>item_id</th>\n",
       "      <th>user</th>\n",
       "      <th>recommend</th>\n",
       "      <th>opinion</th>\n",
       "      <th>id</th>\n",
       "      <th>app_name</th>\n",
       "      <th>rating</th>\n",
       "    </tr>\n",
       "  </thead>\n",
       "  <tbody>\n",
       "    <tr>\n",
       "      <th>0</th>\n",
       "      <td>1250</td>\n",
       "      <td>76561197970982479</td>\n",
       "      <td>1</td>\n",
       "      <td>2</td>\n",
       "      <td>1250</td>\n",
       "      <td>Killing Floor</td>\n",
       "      <td>3.0</td>\n",
       "    </tr>\n",
       "    <tr>\n",
       "      <th>334</th>\n",
       "      <td>22200</td>\n",
       "      <td>76561197970982479</td>\n",
       "      <td>1</td>\n",
       "      <td>2</td>\n",
       "      <td>22200</td>\n",
       "      <td>Zeno Clash</td>\n",
       "      <td>3.0</td>\n",
       "    </tr>\n",
       "  </tbody>\n",
       "</table>\n",
       "</div>"
      ],
      "text/plain": [
       "     item_id               user  recommend  opinion     id       app_name  \\\n",
       "0       1250  76561197970982479          1        2   1250  Killing Floor   \n",
       "334    22200  76561197970982479          1        2  22200     Zeno Clash   \n",
       "\n",
       "     rating  \n",
       "0       3.0  \n",
       "334     3.0  "
      ]
     },
     "execution_count": 104,
     "metadata": {},
     "output_type": "execute_result"
    }
   ],
   "source": [
    "prueba1.loc[prueba1['user']== '76561197970982479']"
   ]
  },
  {
   "cell_type": "code",
   "execution_count": 57,
   "metadata": {},
   "outputs": [],
   "source": [
    "prueba1.to_csv('data_set_limpio/modelo.csv',encoding='UTF-8',index=False)"
   ]
  },
  {
   "cell_type": "code",
   "execution_count": 63,
   "metadata": {},
   "outputs": [],
   "source": [
    "with open('data_set_limpio/modelo.csv', 'rb') as f_in, gzip.open('data_set_limpio/modelo.csv.gz', 'wb') as f_out:\n",
    "    f_out.writelines(f_in)"
   ]
  }
 ],
 "metadata": {
  "kernelspec": {
   "display_name": "Python 3",
   "language": "python",
   "name": "python3"
  },
  "language_info": {
   "codemirror_mode": {
    "name": "ipython",
    "version": 3
   },
   "file_extension": ".py",
   "mimetype": "text/x-python",
   "name": "python",
   "nbconvert_exporter": "python",
   "pygments_lexer": "ipython3",
   "version": "3.9.18"
  }
 },
 "nbformat": 4,
 "nbformat_minor": 2
}
