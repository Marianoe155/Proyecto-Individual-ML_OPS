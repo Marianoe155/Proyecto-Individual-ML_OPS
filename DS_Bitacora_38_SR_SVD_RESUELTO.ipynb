{
  "nbformat": 4,
  "nbformat_minor": 0,
  "metadata": {
    "kernelspec": {
      "display_name": "Python 3",
      "language": "python",
      "name": "python3"
    },
    "language_info": {
      "codemirror_mode": {
        "name": "ipython",
        "version": 3
      },
      "file_extension": ".py",
      "mimetype": "text/x-python",
      "name": "python",
      "nbconvert_exporter": "python",
      "pygments_lexer": "ipython3",
      "version": "3.8.2"
    },
    "colab": {
      "name": "DS_Bitácora_38_SR_SVD_RESUELTO.ipynb",
      "provenance": []
    }
  },
  "cells": [
    {
      "cell_type": "markdown",
      "metadata": {
        "id": "iW7-Cw_7Cdj-"
      },
      "source": [
        "# Sistemas de Recomendación - Netflix Prize Challenge\n",
        "\n",
        "## Filtro Colaborativo a partir de descomposición UV\n",
        "\n",
        "En este notebook vamos a implementar un sistema de recomendación usando un método tipo descomposición UV.\n",
        "\n",
        "Vamos a usar la biblioteca Surprise. Te recomendamos tener abierta la [documentación](https://surprise.readthedocs.io/en/stable/getting_started.html) a medida que vas recorriendo esta sección.\n",
        "\n",
        "### 1. Dataset y Train/test split\n",
        "\n",
        "Carga de datos"
      ]
    },
    {
      "cell_type": "code",
      "metadata": {
        "id": "pMY0MmGACdkH"
      },
      "source": [
        "import numpy as np\n",
        "import matplotlib.pyplot as plt\n",
        "import seaborn as sns\n",
        "sns.set()\n",
        "\n",
        "import pandas as pd\n",
        "\n",
        "import gc #garbage collector\n",
        "\n",
        "from surprise import Dataset\n",
        "from surprise import Reader\n",
        "from surprise.model_selection import train_test_split"
      ],
      "execution_count": null,
      "outputs": []
    },
    {
      "cell_type": "code",
      "metadata": {
        "id": "harWyzxHCdkJ",
        "outputId": "8ecd48c2-101c-41b9-99dc-84084ed9459a"
      },
      "source": [
        "df1 = pd.read_csv('netflix-prize-data/combined_data_1_with_movie_id.csv', dtype={'Rating': np.int8, 'movie_id': np.int16})\n",
        "print(df1.shape)\n",
        "df1.head()"
      ],
      "execution_count": null,
      "outputs": [
        {
          "output_type": "stream",
          "text": [
            "(24053764, 3)\n"
          ],
          "name": "stdout"
        },
        {
          "output_type": "execute_result",
          "data": {
            "text/html": [
              "<div>\n",
              "<style scoped>\n",
              "    .dataframe tbody tr th:only-of-type {\n",
              "        vertical-align: middle;\n",
              "    }\n",
              "\n",
              "    .dataframe tbody tr th {\n",
              "        vertical-align: top;\n",
              "    }\n",
              "\n",
              "    .dataframe thead th {\n",
              "        text-align: right;\n",
              "    }\n",
              "</style>\n",
              "<table border=\"1\" class=\"dataframe\">\n",
              "  <thead>\n",
              "    <tr style=\"text-align: right;\">\n",
              "      <th></th>\n",
              "      <th>User</th>\n",
              "      <th>Rating</th>\n",
              "      <th>Movie_id</th>\n",
              "    </tr>\n",
              "  </thead>\n",
              "  <tbody>\n",
              "    <tr>\n",
              "      <th>0</th>\n",
              "      <td>1488844</td>\n",
              "      <td>3</td>\n",
              "      <td>1</td>\n",
              "    </tr>\n",
              "    <tr>\n",
              "      <th>1</th>\n",
              "      <td>822109</td>\n",
              "      <td>5</td>\n",
              "      <td>1</td>\n",
              "    </tr>\n",
              "    <tr>\n",
              "      <th>2</th>\n",
              "      <td>885013</td>\n",
              "      <td>4</td>\n",
              "      <td>1</td>\n",
              "    </tr>\n",
              "    <tr>\n",
              "      <th>3</th>\n",
              "      <td>30878</td>\n",
              "      <td>4</td>\n",
              "      <td>1</td>\n",
              "    </tr>\n",
              "    <tr>\n",
              "      <th>4</th>\n",
              "      <td>823519</td>\n",
              "      <td>3</td>\n",
              "      <td>1</td>\n",
              "    </tr>\n",
              "  </tbody>\n",
              "</table>\n",
              "</div>"
            ],
            "text/plain": [
              "      User  Rating  Movie_id\n",
              "0  1488844       3         1\n",
              "1   822109       5         1\n",
              "2   885013       4         1\n",
              "3    30878       4         1\n",
              "4   823519       3         1"
            ]
          },
          "metadata": {
            "tags": []
          },
          "execution_count": 2
        }
      ]
    },
    {
      "cell_type": "code",
      "metadata": {
        "id": "RLRGylSoCdkM",
        "outputId": "ca9e76d3-947e-4b30-9268-572ca56862b5"
      },
      "source": [
        "df_title = pd.read_csv('netflix-prize-data/movie_titles.csv', encoding = \"ISO-8859-1\",index_col = 0, header = None, usecols = [0,2], names = ['Movie_Id', 'Name'])\n",
        "df_title.head()"
      ],
      "execution_count": null,
      "outputs": [
        {
          "output_type": "execute_result",
          "data": {
            "text/html": [
              "<div>\n",
              "<style scoped>\n",
              "    .dataframe tbody tr th:only-of-type {\n",
              "        vertical-align: middle;\n",
              "    }\n",
              "\n",
              "    .dataframe tbody tr th {\n",
              "        vertical-align: top;\n",
              "    }\n",
              "\n",
              "    .dataframe thead th {\n",
              "        text-align: right;\n",
              "    }\n",
              "</style>\n",
              "<table border=\"1\" class=\"dataframe\">\n",
              "  <thead>\n",
              "    <tr style=\"text-align: right;\">\n",
              "      <th></th>\n",
              "      <th>Name</th>\n",
              "    </tr>\n",
              "    <tr>\n",
              "      <th>Movie_Id</th>\n",
              "      <th></th>\n",
              "    </tr>\n",
              "  </thead>\n",
              "  <tbody>\n",
              "    <tr>\n",
              "      <th>1</th>\n",
              "      <td>Dinosaur Planet</td>\n",
              "    </tr>\n",
              "    <tr>\n",
              "      <th>2</th>\n",
              "      <td>Isle of Man TT 2004 Review</td>\n",
              "    </tr>\n",
              "    <tr>\n",
              "      <th>3</th>\n",
              "      <td>Character</td>\n",
              "    </tr>\n",
              "    <tr>\n",
              "      <th>4</th>\n",
              "      <td>Paula Abdul's Get Up &amp; Dance</td>\n",
              "    </tr>\n",
              "    <tr>\n",
              "      <th>5</th>\n",
              "      <td>The Rise and Fall of ECW</td>\n",
              "    </tr>\n",
              "  </tbody>\n",
              "</table>\n",
              "</div>"
            ],
            "text/plain": [
              "                                  Name\n",
              "Movie_Id                              \n",
              "1                      Dinosaur Planet\n",
              "2           Isle of Man TT 2004 Review\n",
              "3                            Character\n",
              "4         Paula Abdul's Get Up & Dance\n",
              "5             The Rise and Fall of ECW"
            ]
          },
          "metadata": {
            "tags": []
          },
          "execution_count": 3
        }
      ]
    },
    {
      "cell_type": "markdown",
      "metadata": {
        "id": "OPGXi6juCdkO"
      },
      "source": [
        "Primero, llevamos el dataset al formato que le gusta a la biblioteca. ¿En qué orden tienen que estar los atributos? Investigar qué hace la clase `Reader` y cuáles son sus parámetros."
      ]
    },
    {
      "cell_type": "code",
      "metadata": {
        "id": "bXaAXsVxCdkP"
      },
      "source": [
        "reader = Reader()"
      ],
      "execution_count": null,
      "outputs": []
    },
    {
      "cell_type": "markdown",
      "metadata": {
        "id": "U9wp68l0CdkQ"
      },
      "source": [
        "Luego, creamos el `Dataset` de Surprise usando `Dataset.load_from_df`"
      ]
    },
    {
      "cell_type": "code",
      "metadata": {
        "id": "ZBbHY2t_CdkR"
      },
      "source": [
        "N_filas = 100000 # Limitamos el dataset a N_filas\n",
        "\n",
        "data = Dataset.load_from_df(df1[['User', 'Movie_id', 'Rating']][:N_filas], reader)"
      ],
      "execution_count": null,
      "outputs": []
    },
    {
      "cell_type": "markdown",
      "metadata": {
        "id": "f9bJfXxxCdkS"
      },
      "source": [
        "¿Cómo les parece que es mejor hacer el split?¿Dejando películas en test, usuarios o combinaciones?"
      ]
    },
    {
      "cell_type": "code",
      "metadata": {
        "id": "2c9qYfbYCdkT"
      },
      "source": [
        "trainset, testset = train_test_split(data, test_size=.25)"
      ],
      "execution_count": null,
      "outputs": []
    },
    {
      "cell_type": "markdown",
      "metadata": {
        "id": "lI_jn5h8CdkU"
      },
      "source": [
        "### 2.2 Entrenamiento\n",
        "\n",
        "Vamos a entrenar un algoritmo SVD. Explorar sus parámetros y su funcionamiento."
      ]
    },
    {
      "cell_type": "code",
      "metadata": {
        "id": "wNfHgVyCCdkV"
      },
      "source": [
        "from surprise import SVD\n",
        "algo = SVD()"
      ],
      "execution_count": null,
      "outputs": []
    },
    {
      "cell_type": "markdown",
      "metadata": {
        "id": "y-euVsruCdkW"
      },
      "source": [
        "Entrenamos sobre el `trainset`"
      ]
    },
    {
      "cell_type": "code",
      "metadata": {
        "id": "hDaywCYhCdkW",
        "outputId": "5cdf82f7-f541-4ea9-dafc-4869a11cf90d"
      },
      "source": [
        "algo.fit(trainset)"
      ],
      "execution_count": null,
      "outputs": [
        {
          "output_type": "execute_result",
          "data": {
            "text/plain": [
              "<surprise.prediction_algorithms.matrix_factorization.SVD at 0x7f44bb1c78e0>"
            ]
          },
          "metadata": {
            "tags": []
          },
          "execution_count": 8
        }
      ]
    },
    {
      "cell_type": "markdown",
      "metadata": {
        "id": "bvMvXV7pCdkX"
      },
      "source": [
        "Y predecimos sobre el `testset`. Notar que para predecir sobre un conjunto de test se usa la función `test`."
      ]
    },
    {
      "cell_type": "code",
      "metadata": {
        "id": "4ASuz-IVCdkY"
      },
      "source": [
        "predictions = algo.test(testset)"
      ],
      "execution_count": null,
      "outputs": []
    },
    {
      "cell_type": "markdown",
      "metadata": {
        "id": "Hy1W_usyCdkY"
      },
      "source": [
        "Explorar las característica de `predictions` y alguno de sus elementos"
      ]
    },
    {
      "cell_type": "code",
      "metadata": {
        "id": "D9nkM-kKCdkZ",
        "outputId": "057f9fc0-96c2-49ce-f976-a46e9c7af59f"
      },
      "source": [
        "predictions[1]"
      ],
      "execution_count": null,
      "outputs": [
        {
          "output_type": "execute_result",
          "data": {
            "text/plain": [
              "Prediction(uid=2314299, iid=28, r_ui=4.0, est=3.8942424075176896, details={'was_impossible': False})"
            ]
          },
          "metadata": {
            "tags": []
          },
          "execution_count": 10
        }
      ]
    },
    {
      "cell_type": "markdown",
      "metadata": {
        "id": "t7iTSYPcCdkZ"
      },
      "source": [
        "En cambio, si queremos predecir para un usuario y una película en particular, usamos la función `predict`"
      ]
    },
    {
      "cell_type": "code",
      "metadata": {
        "id": "TQivMF1QCdka",
        "outputId": "c004805b-066b-4ed0-ad79-cc5964456e3e"
      },
      "source": [
        "algo.predict(1328945,28)"
      ],
      "execution_count": null,
      "outputs": [
        {
          "output_type": "execute_result",
          "data": {
            "text/plain": [
              "Prediction(uid=1328945, iid=28, r_ui=None, est=3.708612506493165, details={'was_impossible': False})"
            ]
          },
          "metadata": {
            "tags": []
          },
          "execution_count": 11
        }
      ]
    },
    {
      "cell_type": "markdown",
      "metadata": {
        "id": "fDJWBj-aCdkb"
      },
      "source": [
        "Exploremos un usuario, veamos cuáles películas le gustaron y cuáles les recomienda el sistema.\n",
        "\n",
        "Películas que le gustaron"
      ]
    },
    {
      "cell_type": "code",
      "metadata": {
        "id": "Tmz_DqggCdkb",
        "outputId": "e10372d3-502a-4a4f-e5bc-0c18d166b060"
      },
      "source": [
        "usuario = 1539350\n",
        "rating = 5   # le pedimos peliculas a las que haya puesto 4 o 5 estrellas\n",
        "df_user = df1[(df1['User'] == usuario) & (df1['Rating'] >= rating)]\n",
        "df_user = df_user.reset_index(drop=True)\n",
        "df_user['Name'] = df_title['Name'].loc[df_user.Movie_id].values\n",
        "df_user"
      ],
      "execution_count": null,
      "outputs": [
        {
          "output_type": "execute_result",
          "data": {
            "text/html": [
              "<div>\n",
              "<style scoped>\n",
              "    .dataframe tbody tr th:only-of-type {\n",
              "        vertical-align: middle;\n",
              "    }\n",
              "\n",
              "    .dataframe tbody tr th {\n",
              "        vertical-align: top;\n",
              "    }\n",
              "\n",
              "    .dataframe thead th {\n",
              "        text-align: right;\n",
              "    }\n",
              "</style>\n",
              "<table border=\"1\" class=\"dataframe\">\n",
              "  <thead>\n",
              "    <tr style=\"text-align: right;\">\n",
              "      <th></th>\n",
              "      <th>User</th>\n",
              "      <th>Rating</th>\n",
              "      <th>Movie_id</th>\n",
              "      <th>Name</th>\n",
              "    </tr>\n",
              "  </thead>\n",
              "  <tbody>\n",
              "    <tr>\n",
              "      <th>0</th>\n",
              "      <td>1539350</td>\n",
              "      <td>5</td>\n",
              "      <td>269</td>\n",
              "      <td>Parenthood</td>\n",
              "    </tr>\n",
              "    <tr>\n",
              "      <th>1</th>\n",
              "      <td>1539350</td>\n",
              "      <td>5</td>\n",
              "      <td>270</td>\n",
              "      <td>Sex and the City: Season 4</td>\n",
              "    </tr>\n",
              "    <tr>\n",
              "      <th>2</th>\n",
              "      <td>1539350</td>\n",
              "      <td>5</td>\n",
              "      <td>406</td>\n",
              "      <td>Hostage</td>\n",
              "    </tr>\n",
              "    <tr>\n",
              "      <th>3</th>\n",
              "      <td>1539350</td>\n",
              "      <td>5</td>\n",
              "      <td>1202</td>\n",
              "      <td>National Lampoon's Vacation</td>\n",
              "    </tr>\n",
              "    <tr>\n",
              "      <th>4</th>\n",
              "      <td>1539350</td>\n",
              "      <td>5</td>\n",
              "      <td>2862</td>\n",
              "      <td>The Silence of the Lambs</td>\n",
              "    </tr>\n",
              "    <tr>\n",
              "      <th>5</th>\n",
              "      <td>1539350</td>\n",
              "      <td>5</td>\n",
              "      <td>3151</td>\n",
              "      <td>Napoleon Dynamite</td>\n",
              "    </tr>\n",
              "    <tr>\n",
              "      <th>6</th>\n",
              "      <td>1539350</td>\n",
              "      <td>5</td>\n",
              "      <td>3605</td>\n",
              "      <td>The Wizard of Oz: Collector's Edition</td>\n",
              "    </tr>\n",
              "    <tr>\n",
              "      <th>7</th>\n",
              "      <td>1539350</td>\n",
              "      <td>5</td>\n",
              "      <td>3928</td>\n",
              "      <td>Nip/Tuck: Season 2</td>\n",
              "    </tr>\n",
              "    <tr>\n",
              "      <th>8</th>\n",
              "      <td>1539350</td>\n",
              "      <td>5</td>\n",
              "      <td>4159</td>\n",
              "      <td>Barbershop</td>\n",
              "    </tr>\n",
              "  </tbody>\n",
              "</table>\n",
              "</div>"
            ],
            "text/plain": [
              "      User  Rating  Movie_id                                   Name\n",
              "0  1539350       5       269                             Parenthood\n",
              "1  1539350       5       270             Sex and the City: Season 4\n",
              "2  1539350       5       406                                Hostage\n",
              "3  1539350       5      1202            National Lampoon's Vacation\n",
              "4  1539350       5      2862               The Silence of the Lambs\n",
              "5  1539350       5      3151                      Napoleon Dynamite\n",
              "6  1539350       5      3605  The Wizard of Oz: Collector's Edition\n",
              "7  1539350       5      3928                     Nip/Tuck: Season 2\n",
              "8  1539350       5      4159                             Barbershop"
            ]
          },
          "metadata": {
            "tags": []
          },
          "execution_count": 12
        }
      ]
    },
    {
      "cell_type": "markdown",
      "metadata": {
        "id": "RtLlrguJCdkd"
      },
      "source": [
        "Creamos donde vamos a guardar las recomendaciones"
      ]
    },
    {
      "cell_type": "code",
      "metadata": {
        "id": "bitImU55Cdkd",
        "outputId": "1a21849f-e513-409a-da05-9db5c9ffeb6c"
      },
      "source": [
        "recomendaciones_usuario = df_title.iloc[:4499].copy()\n",
        "print(recomendaciones_usuario.shape)\n",
        "recomendaciones_usuario.head()"
      ],
      "execution_count": null,
      "outputs": [
        {
          "output_type": "stream",
          "text": [
            "(4499, 1)\n"
          ],
          "name": "stdout"
        },
        {
          "output_type": "execute_result",
          "data": {
            "text/html": [
              "<div>\n",
              "<style scoped>\n",
              "    .dataframe tbody tr th:only-of-type {\n",
              "        vertical-align: middle;\n",
              "    }\n",
              "\n",
              "    .dataframe tbody tr th {\n",
              "        vertical-align: top;\n",
              "    }\n",
              "\n",
              "    .dataframe thead th {\n",
              "        text-align: right;\n",
              "    }\n",
              "</style>\n",
              "<table border=\"1\" class=\"dataframe\">\n",
              "  <thead>\n",
              "    <tr style=\"text-align: right;\">\n",
              "      <th></th>\n",
              "      <th>Name</th>\n",
              "    </tr>\n",
              "    <tr>\n",
              "      <th>Movie_Id</th>\n",
              "      <th></th>\n",
              "    </tr>\n",
              "  </thead>\n",
              "  <tbody>\n",
              "    <tr>\n",
              "      <th>1</th>\n",
              "      <td>Dinosaur Planet</td>\n",
              "    </tr>\n",
              "    <tr>\n",
              "      <th>2</th>\n",
              "      <td>Isle of Man TT 2004 Review</td>\n",
              "    </tr>\n",
              "    <tr>\n",
              "      <th>3</th>\n",
              "      <td>Character</td>\n",
              "    </tr>\n",
              "    <tr>\n",
              "      <th>4</th>\n",
              "      <td>Paula Abdul's Get Up &amp; Dance</td>\n",
              "    </tr>\n",
              "    <tr>\n",
              "      <th>5</th>\n",
              "      <td>The Rise and Fall of ECW</td>\n",
              "    </tr>\n",
              "  </tbody>\n",
              "</table>\n",
              "</div>"
            ],
            "text/plain": [
              "                                  Name\n",
              "Movie_Id                              \n",
              "1                      Dinosaur Planet\n",
              "2           Isle of Man TT 2004 Review\n",
              "3                            Character\n",
              "4         Paula Abdul's Get Up & Dance\n",
              "5             The Rise and Fall of ECW"
            ]
          },
          "metadata": {
            "tags": []
          },
          "execution_count": 13
        }
      ]
    },
    {
      "cell_type": "markdown",
      "metadata": {
        "id": "pqc-_GDICdke"
      },
      "source": [
        "Sacamos del dataframe todas las películas que ya sabemos que vio"
      ]
    },
    {
      "cell_type": "code",
      "metadata": {
        "id": "OuaG8SkUCdkf",
        "outputId": "a99f4c26-0df1-4f6c-b391-a4692aa8f71f"
      },
      "source": [
        "usuario_vistas = df1[df1['User'] == usuario]\n",
        "print(usuario_vistas.shape)\n",
        "usuario_vistas.head()"
      ],
      "execution_count": null,
      "outputs": [
        {
          "output_type": "stream",
          "text": [
            "(97, 3)\n"
          ],
          "name": "stdout"
        },
        {
          "output_type": "execute_result",
          "data": {
            "text/html": [
              "<div>\n",
              "<style scoped>\n",
              "    .dataframe tbody tr th:only-of-type {\n",
              "        vertical-align: middle;\n",
              "    }\n",
              "\n",
              "    .dataframe tbody tr th {\n",
              "        vertical-align: top;\n",
              "    }\n",
              "\n",
              "    .dataframe thead th {\n",
              "        text-align: right;\n",
              "    }\n",
              "</style>\n",
              "<table border=\"1\" class=\"dataframe\">\n",
              "  <thead>\n",
              "    <tr style=\"text-align: right;\">\n",
              "      <th></th>\n",
              "      <th>User</th>\n",
              "      <th>Rating</th>\n",
              "      <th>Movie_id</th>\n",
              "    </tr>\n",
              "  </thead>\n",
              "  <tbody>\n",
              "    <tr>\n",
              "      <th>219870</th>\n",
              "      <td>1539350</td>\n",
              "      <td>3</td>\n",
              "      <td>33</td>\n",
              "    </tr>\n",
              "    <tr>\n",
              "      <th>409717</th>\n",
              "      <td>1539350</td>\n",
              "      <td>4</td>\n",
              "      <td>111</td>\n",
              "    </tr>\n",
              "    <tr>\n",
              "      <th>445206</th>\n",
              "      <td>1539350</td>\n",
              "      <td>3</td>\n",
              "      <td>127</td>\n",
              "    </tr>\n",
              "    <tr>\n",
              "      <th>664099</th>\n",
              "      <td>1539350</td>\n",
              "      <td>4</td>\n",
              "      <td>175</td>\n",
              "    </tr>\n",
              "    <tr>\n",
              "      <th>894718</th>\n",
              "      <td>1539350</td>\n",
              "      <td>4</td>\n",
              "      <td>197</td>\n",
              "    </tr>\n",
              "  </tbody>\n",
              "</table>\n",
              "</div>"
            ],
            "text/plain": [
              "           User  Rating  Movie_id\n",
              "219870  1539350       3        33\n",
              "409717  1539350       4       111\n",
              "445206  1539350       3       127\n",
              "664099  1539350       4       175\n",
              "894718  1539350       4       197"
            ]
          },
          "metadata": {
            "tags": []
          },
          "execution_count": 14
        }
      ]
    },
    {
      "cell_type": "code",
      "metadata": {
        "id": "mqIZowT9Cdkg",
        "outputId": "8f0704a3-1d3c-4160-f5c7-c66661224b3c"
      },
      "source": [
        "recomendaciones_usuario.drop(usuario_vistas.Movie_id, inplace = True)\n",
        "recomendaciones_usuario = recomendaciones_usuario.reset_index()\n",
        "recomendaciones_usuario.head()"
      ],
      "execution_count": null,
      "outputs": [
        {
          "output_type": "execute_result",
          "data": {
            "text/html": [
              "<div>\n",
              "<style scoped>\n",
              "    .dataframe tbody tr th:only-of-type {\n",
              "        vertical-align: middle;\n",
              "    }\n",
              "\n",
              "    .dataframe tbody tr th {\n",
              "        vertical-align: top;\n",
              "    }\n",
              "\n",
              "    .dataframe thead th {\n",
              "        text-align: right;\n",
              "    }\n",
              "</style>\n",
              "<table border=\"1\" class=\"dataframe\">\n",
              "  <thead>\n",
              "    <tr style=\"text-align: right;\">\n",
              "      <th></th>\n",
              "      <th>index</th>\n",
              "      <th>Movie_Id</th>\n",
              "      <th>Name</th>\n",
              "    </tr>\n",
              "  </thead>\n",
              "  <tbody>\n",
              "    <tr>\n",
              "      <th>0</th>\n",
              "      <td>0</td>\n",
              "      <td>1</td>\n",
              "      <td>Dinosaur Planet</td>\n",
              "    </tr>\n",
              "    <tr>\n",
              "      <th>1</th>\n",
              "      <td>1</td>\n",
              "      <td>2</td>\n",
              "      <td>Isle of Man TT 2004 Review</td>\n",
              "    </tr>\n",
              "    <tr>\n",
              "      <th>2</th>\n",
              "      <td>2</td>\n",
              "      <td>3</td>\n",
              "      <td>Character</td>\n",
              "    </tr>\n",
              "    <tr>\n",
              "      <th>3</th>\n",
              "      <td>3</td>\n",
              "      <td>4</td>\n",
              "      <td>Paula Abdul's Get Up &amp; Dance</td>\n",
              "    </tr>\n",
              "    <tr>\n",
              "      <th>4</th>\n",
              "      <td>4</td>\n",
              "      <td>5</td>\n",
              "      <td>The Rise and Fall of ECW</td>\n",
              "    </tr>\n",
              "  </tbody>\n",
              "</table>\n",
              "</div>"
            ],
            "text/plain": [
              "   index  Movie_Id                          Name\n",
              "0      0         1               Dinosaur Planet\n",
              "1      1         2    Isle of Man TT 2004 Review\n",
              "2      2         3                     Character\n",
              "3      3         4  Paula Abdul's Get Up & Dance\n",
              "4      4         5      The Rise and Fall of ECW"
            ]
          },
          "metadata": {
            "tags": []
          },
          "execution_count": 17
        }
      ]
    },
    {
      "cell_type": "markdown",
      "metadata": {
        "id": "rL9_QT4nCdkm"
      },
      "source": [
        "Y hacemos las recomendaciones"
      ]
    },
    {
      "cell_type": "code",
      "metadata": {
        "id": "EcDJ9fkTCdkn"
      },
      "source": [
        "recomendaciones_usuario['Estimate_Score'] = recomendaciones_usuario['Movie_Id'].apply(lambda x: algo.predict(usuario, x).est)"
      ],
      "execution_count": null,
      "outputs": []
    },
    {
      "cell_type": "code",
      "metadata": {
        "id": "sATDv377Cdkp",
        "outputId": "a960c0b9-c332-4f98-dab1-dc65f4092db6"
      },
      "source": [
        "recomendaciones_usuario = recomendaciones_usuario.sort_values('Estimate_Score', ascending=False)\n",
        "print(recomendaciones_usuario.head(10))"
      ],
      "execution_count": null,
      "outputs": [
        {
          "output_type": "stream",
          "text": [
            "    index  Movie_Id                                               Name  \\\n",
            "12     12        13  Lord of the Rings: The Return of the King: Ext...   \n",
            "4       4         5                           The Rise and Fall of ECW   \n",
            "24     24        25      Inspector Morse 31: Death Is Now My Neighbour   \n",
            "27     27        28                                    Lilo and Stitch   \n",
            "17     17        18                                   Immortal Beloved   \n",
            "0       0         1                                    Dinosaur Planet   \n",
            "29     29        30                             Something's Gotta Give   \n",
            "2       2         3                                          Character   \n",
            "1       1         2                         Isle of Man TT 2004 Review   \n",
            "28     28        29                                            Boycott   \n",
            "\n",
            "    Estimate_Score  \n",
            "12        4.530308  \n",
            "4         4.012661  \n",
            "24        4.006819  \n",
            "27        3.894242  \n",
            "17        3.819894  \n",
            "0         3.792105  \n",
            "29        3.784519  \n",
            "2         3.685728  \n",
            "1         3.678109  \n",
            "28        3.629242  \n"
          ],
          "name": "stdout"
        }
      ]
    },
    {
      "cell_type": "markdown",
      "metadata": {
        "id": "f6GlPFL-Cdkq"
      },
      "source": [
        "### 2. Evaluación\n",
        "\n",
        "Para el conjunto de `testset`, evaluamos el error RMSE entre las predicciones y las verdaderas calificaciones que le habían dado a las películas. Para eso, buscar en la documentación cómo se hace."
      ]
    },
    {
      "cell_type": "code",
      "metadata": {
        "id": "nB8iFBF-Cdkr",
        "outputId": "90e0fb07-502f-4eca-ecdb-5b4c2d8c20da"
      },
      "source": [
        "from surprise import accuracy\n",
        "\n",
        "accuracy.rmse(predictions)"
      ],
      "execution_count": null,
      "outputs": [
        {
          "output_type": "stream",
          "text": [
            "RMSE: 1.0581\n"
          ],
          "name": "stdout"
        },
        {
          "output_type": "execute_result",
          "data": {
            "text/plain": [
              "1.058137336959263"
            ]
          },
          "metadata": {
            "tags": []
          },
          "execution_count": 20
        }
      ]
    },
    {
      "cell_type": "markdown",
      "metadata": {
        "id": "kH3r_7acCdks"
      },
      "source": [
        "### 3. Optimización de parámetros\n",
        "\n",
        "**Ejercicio**: hacer un gráfico del desempeño del modelo en función del número de factores del `SVD`"
      ]
    },
    {
      "cell_type": "code",
      "metadata": {
        "id": "dp7XJDZACdkt"
      },
      "source": [
        "from surprise.model_selection import cross_validate\n",
        "\n",
        "rmse_test_means = []\n",
        "factores = [1,2,4,8,16,32,64,128,256]\n",
        "\n",
        "for factor in factores:\n",
        "    print(f'\\nNúmero de Factores: {factor}')\n",
        "    algo = SVD(n_factors=factor)\n",
        "    cv = cross_validate(algo, data, measures=['RMSE'], cv = 3, verbose=True)\n",
        "    rmse_test_means.append(np.mean(cv['test_rmse']))"
      ],
      "execution_count": null,
      "outputs": []
    },
    {
      "cell_type": "code",
      "metadata": {
        "id": "LVjFsLGeCdku"
      },
      "source": [
        "plt.scatter(factores, rmse_test_means)\n",
        "plt.xlabel('Numero de factores')\n",
        "plt.ylabel('Error RMSE')\n",
        "plt.show()"
      ],
      "execution_count": null,
      "outputs": []
    },
    {
      "cell_type": "markdown",
      "metadata": {
        "id": "GOh1crJiCdku"
      },
      "source": [
        "**Ejercicio**: recordar que, cuando entrenamos un `SVD`, estamos usando descenso por gradiente para minimizar una función de costo. Usar `GridSearchCV` para buscar valores óptimos para los siguientes parámetros (tres por parámetros, utilizar los valores default de referencia): `n_factors`, `n_epochs`, `lr_all` y `reg_all`. Estudiar qué representa cada uno de ellos mientras esperan. Tomarse un café."
      ]
    },
    {
      "cell_type": "code",
      "metadata": {
        "id": "wJoKAbTeCdkw"
      },
      "source": [
        "from surprise.model_selection import GridSearchCV\n",
        "\n",
        "param_grid = {'n_factors': [5,50,100],'n_epochs': [5, 10,20], 'lr_all': [0.001, 0.002, 0.005],\n",
        "              'reg_all': [0.002, 0.02, 0.2]}\n",
        "gs = GridSearchCV(SVD, param_grid, measures=['rmse'], cv=3, n_jobs = -1)\n",
        "gs.fit(data)\n"
      ],
      "execution_count": null,
      "outputs": []
    },
    {
      "cell_type": "code",
      "metadata": {
        "id": "HrmuGzkUCdkx"
      },
      "source": [
        "print(gs.best_score['rmse'])\n",
        "print(gs.best_params['rmse'])"
      ],
      "execution_count": null,
      "outputs": []
    },
    {
      "cell_type": "markdown",
      "metadata": {
        "id": "Vx54X-IUCdky"
      },
      "source": [
        "## Extra: Agrandando el Dataset\n",
        "\n",
        "Podemos sumar al dataset el resto de las calificaciones que no usamos.\n",
        "\n",
        "Como corremos el riesgo de que se nos llene la memoria RAM, vamos a hacerlo de a poco y con cuidado. Arrancamos agregando las calificaciones que hay en `combined_data_2.txt`.\n",
        "\n",
        "0. Reiniciar el Kernel\n",
        "1. Abrir el archivo `combined_data_2.txt` con la función `load_data`.\n",
        "2. Agregar una columna con el `Movie_id` al que corresponden las calificaciones. Si te animas, puedes crear una función que realice este paso.\n",
        "3. Opcional: filtrar películas con pocas calificaciones\n",
        "4. Abrir el archivo donde ya está procesado `combined_data_1.txt`. \n",
        "5. Agregar al final las nuevas calificaciones y guardarlo en un nuevo archivo.\n",
        "\n",
        "\n",
        "Una vez que estén contentos con el procedimientos, repetir los pasos anteriores para los archivos faltantes."
      ]
    },
    {
      "cell_type": "code",
      "metadata": {
        "id": "6CKvDT-MCdk0"
      },
      "source": [
        "import numpy as np\n",
        "import matplotlib.pyplot as plt\n",
        "import seaborn as sns\n",
        "sns.set()\n",
        "\n",
        "import pandas as pd\n",
        "\n",
        "import gc #garbage collector"
      ],
      "execution_count": null,
      "outputs": []
    },
    {
      "cell_type": "code",
      "metadata": {
        "id": "iDzsfAHSCdk1",
        "outputId": "b0d8a6a9-ecac-42fa-c721-c4d179dbd34a"
      },
      "source": [
        "### 1\n",
        "\n",
        "def load_data(name):\n",
        "    df = pd.read_csv(name, header = None, names = ['User','Rating'], usecols = [0,1])\n",
        "    return df\n",
        "\n",
        "\n",
        "df2 = load_data('netflix-prize-data/combined_data_2.txt')\n",
        "print(df2.shape)"
      ],
      "execution_count": null,
      "outputs": [
        {
          "output_type": "stream",
          "text": [
            "(26982302, 2)\n"
          ],
          "name": "stdout"
        }
      ]
    },
    {
      "cell_type": "code",
      "metadata": {
        "id": "il8OeyXCCdk2",
        "outputId": "35700487-c3c4-477f-d52e-37090ddecc37"
      },
      "source": [
        "### 2.\n",
        "movies_ids_df2 = df2.User[df2.Rating.isna()].values\n",
        "print(movies_ids_df2)\n",
        "print(len(movies_ids_df2))\n",
        "\n",
        "movies_ids_df2 = np.arange(4500,len(movies_ids_df2) + 4500)\n",
        "print(movies_ids_df2)"
      ],
      "execution_count": null,
      "outputs": [
        {
          "output_type": "stream",
          "text": [
            "['4500:' '4501:' '4502:' ... '9208:' '9209:' '9210:']\n",
            "4711\n",
            "[4500 4501 4502 ... 9208 9209 9210]\n"
          ],
          "name": "stdout"
        }
      ]
    },
    {
      "cell_type": "code",
      "metadata": {
        "id": "44TIhvFPCdk3",
        "outputId": "7e54beff-f39f-4e36-9f36-16a6b5c8c43b"
      },
      "source": [
        "df2_nan = pd.DataFrame(pd.isnull(df2.Rating))\n",
        "df2_nan = df2_nan[df2_nan['Rating'] == True]\n",
        "idx_movies_ids = df2_nan.index.values\n",
        "print(idx_movies_ids)"
      ],
      "execution_count": null,
      "outputs": [
        {
          "output_type": "stream",
          "text": [
            "[       0      259      855 ... 26961403 26980373 26980497]\n"
          ],
          "name": "stdout"
        }
      ]
    },
    {
      "cell_type": "code",
      "metadata": {
        "id": "6DyXbQmTCdk3",
        "outputId": "c970dbf1-9635-448f-de34-b6850b393860"
      },
      "source": [
        "# Agregamos el indice de la ultima instancia del dataframe\n",
        "idx_movies_ids = np.append(idx_movies_ids,df2.shape[0])\n",
        "cantidad_criticas = np.diff(idx_movies_ids)\n",
        "cantidad_criticas"
      ],
      "execution_count": null,
      "outputs": [
        {
          "output_type": "execute_result",
          "data": {
            "text/plain": [
              "array([  259,   596,   105, ..., 18970,   124,  1805])"
            ]
          },
          "metadata": {
            "tags": []
          },
          "execution_count": 6
        }
      ]
    },
    {
      "cell_type": "code",
      "metadata": {
        "id": "EF1wIwJECdk4"
      },
      "source": [
        "columna_movie_id = np.array([])\n",
        "for i in range(cantidad_criticas.size):\n",
        "    aux = np.full(cantidad_criticas[i], movies_ids_df2[i])\n",
        "    columna_movie_id = np.concatenate((columna_movie_id, aux))"
      ],
      "execution_count": null,
      "outputs": []
    },
    {
      "cell_type": "code",
      "metadata": {
        "id": "2fKNZt6jCdk5",
        "outputId": "90a298b1-0466-4a4e-92b8-f792a0ba9507"
      },
      "source": [
        "df2['Movie_id'] = columna_movie_id\n",
        "del columna_movie_id\n",
        "\n",
        "df2.dropna(inplace = True)\n",
        "df2['User'] = df2['User'].astype(int)\n",
        "df2['Movie_id'] = df2['Movie_id'].astype(np.int16)\n",
        "df2['Rating'] = df2['Rating'].astype(np.int8)\n",
        "\n",
        "gc.collect()"
      ],
      "execution_count": null,
      "outputs": [
        {
          "output_type": "execute_result",
          "data": {
            "text/plain": [
              "88"
            ]
          },
          "metadata": {
            "tags": []
          },
          "execution_count": 9
        }
      ]
    },
    {
      "cell_type": "code",
      "metadata": {
        "id": "Y6g4PmlZCdk5",
        "outputId": "5ab525a9-5e2c-4e64-a11f-e425a7bb0b85"
      },
      "source": [
        "df2"
      ],
      "execution_count": null,
      "outputs": [
        {
          "output_type": "execute_result",
          "data": {
            "text/html": [
              "<div>\n",
              "<style scoped>\n",
              "    .dataframe tbody tr th:only-of-type {\n",
              "        vertical-align: middle;\n",
              "    }\n",
              "\n",
              "    .dataframe tbody tr th {\n",
              "        vertical-align: top;\n",
              "    }\n",
              "\n",
              "    .dataframe thead th {\n",
              "        text-align: right;\n",
              "    }\n",
              "</style>\n",
              "<table border=\"1\" class=\"dataframe\">\n",
              "  <thead>\n",
              "    <tr style=\"text-align: right;\">\n",
              "      <th></th>\n",
              "      <th>User</th>\n",
              "      <th>Rating</th>\n",
              "      <th>Movie_id</th>\n",
              "    </tr>\n",
              "  </thead>\n",
              "  <tbody>\n",
              "    <tr>\n",
              "      <th>1</th>\n",
              "      <td>2532865</td>\n",
              "      <td>4</td>\n",
              "      <td>4500</td>\n",
              "    </tr>\n",
              "    <tr>\n",
              "      <th>2</th>\n",
              "      <td>573364</td>\n",
              "      <td>3</td>\n",
              "      <td>4500</td>\n",
              "    </tr>\n",
              "    <tr>\n",
              "      <th>3</th>\n",
              "      <td>1696725</td>\n",
              "      <td>3</td>\n",
              "      <td>4500</td>\n",
              "    </tr>\n",
              "    <tr>\n",
              "      <th>4</th>\n",
              "      <td>1253431</td>\n",
              "      <td>3</td>\n",
              "      <td>4500</td>\n",
              "    </tr>\n",
              "    <tr>\n",
              "      <th>5</th>\n",
              "      <td>1265574</td>\n",
              "      <td>2</td>\n",
              "      <td>4500</td>\n",
              "    </tr>\n",
              "    <tr>\n",
              "      <th>...</th>\n",
              "      <td>...</td>\n",
              "      <td>...</td>\n",
              "      <td>...</td>\n",
              "    </tr>\n",
              "    <tr>\n",
              "      <th>26982297</th>\n",
              "      <td>2420260</td>\n",
              "      <td>1</td>\n",
              "      <td>9210</td>\n",
              "    </tr>\n",
              "    <tr>\n",
              "      <th>26982298</th>\n",
              "      <td>761176</td>\n",
              "      <td>3</td>\n",
              "      <td>9210</td>\n",
              "    </tr>\n",
              "    <tr>\n",
              "      <th>26982299</th>\n",
              "      <td>459277</td>\n",
              "      <td>3</td>\n",
              "      <td>9210</td>\n",
              "    </tr>\n",
              "    <tr>\n",
              "      <th>26982300</th>\n",
              "      <td>2407365</td>\n",
              "      <td>4</td>\n",
              "      <td>9210</td>\n",
              "    </tr>\n",
              "    <tr>\n",
              "      <th>26982301</th>\n",
              "      <td>627867</td>\n",
              "      <td>3</td>\n",
              "      <td>9210</td>\n",
              "    </tr>\n",
              "  </tbody>\n",
              "</table>\n",
              "<p>26977591 rows × 3 columns</p>\n",
              "</div>"
            ],
            "text/plain": [
              "             User  Rating  Movie_id\n",
              "1         2532865       4      4500\n",
              "2          573364       3      4500\n",
              "3         1696725       3      4500\n",
              "4         1253431       3      4500\n",
              "5         1265574       2      4500\n",
              "...           ...     ...       ...\n",
              "26982297  2420260       1      9210\n",
              "26982298   761176       3      9210\n",
              "26982299   459277       3      9210\n",
              "26982300  2407365       4      9210\n",
              "26982301   627867       3      9210\n",
              "\n",
              "[26977591 rows x 3 columns]"
            ]
          },
          "metadata": {
            "tags": []
          },
          "execution_count": 10
        }
      ]
    },
    {
      "cell_type": "code",
      "metadata": {
        "id": "VM2po_n1Cdk6",
        "outputId": "7ff750f3-1a80-4f45-8c6e-68c64ae061b4"
      },
      "source": [
        "### 4.\n",
        "\n",
        "df1 = pd.read_csv('netflix-prize-data/combined_data_1_with_movie_id.csv', dtype={'Rating': np.int8, 'Movie_id': np.int16})\n",
        "print(df1.shape)\n",
        "df1.head()"
      ],
      "execution_count": null,
      "outputs": [
        {
          "output_type": "stream",
          "text": [
            "(24053764, 3)\n"
          ],
          "name": "stdout"
        },
        {
          "output_type": "execute_result",
          "data": {
            "text/html": [
              "<div>\n",
              "<style scoped>\n",
              "    .dataframe tbody tr th:only-of-type {\n",
              "        vertical-align: middle;\n",
              "    }\n",
              "\n",
              "    .dataframe tbody tr th {\n",
              "        vertical-align: top;\n",
              "    }\n",
              "\n",
              "    .dataframe thead th {\n",
              "        text-align: right;\n",
              "    }\n",
              "</style>\n",
              "<table border=\"1\" class=\"dataframe\">\n",
              "  <thead>\n",
              "    <tr style=\"text-align: right;\">\n",
              "      <th></th>\n",
              "      <th>User</th>\n",
              "      <th>Rating</th>\n",
              "      <th>Movie_id</th>\n",
              "    </tr>\n",
              "  </thead>\n",
              "  <tbody>\n",
              "    <tr>\n",
              "      <th>0</th>\n",
              "      <td>1488844</td>\n",
              "      <td>3</td>\n",
              "      <td>1</td>\n",
              "    </tr>\n",
              "    <tr>\n",
              "      <th>1</th>\n",
              "      <td>822109</td>\n",
              "      <td>5</td>\n",
              "      <td>1</td>\n",
              "    </tr>\n",
              "    <tr>\n",
              "      <th>2</th>\n",
              "      <td>885013</td>\n",
              "      <td>4</td>\n",
              "      <td>1</td>\n",
              "    </tr>\n",
              "    <tr>\n",
              "      <th>3</th>\n",
              "      <td>30878</td>\n",
              "      <td>4</td>\n",
              "      <td>1</td>\n",
              "    </tr>\n",
              "    <tr>\n",
              "      <th>4</th>\n",
              "      <td>823519</td>\n",
              "      <td>3</td>\n",
              "      <td>1</td>\n",
              "    </tr>\n",
              "  </tbody>\n",
              "</table>\n",
              "</div>"
            ],
            "text/plain": [
              "      User  Rating  Movie_id\n",
              "0  1488844       3         1\n",
              "1   822109       5         1\n",
              "2   885013       4         1\n",
              "3    30878       4         1\n",
              "4   823519       3         1"
            ]
          },
          "metadata": {
            "tags": []
          },
          "execution_count": 12
        }
      ]
    },
    {
      "cell_type": "code",
      "metadata": {
        "id": "iGlzGgaECdk7",
        "outputId": "4042c223-d94f-403e-c1a1-e507c1321985"
      },
      "source": [
        "### 5.\n",
        "\n",
        "df = df1.copy()\n",
        "del df1\n",
        "df = df.append(df2)\n",
        "print(df.shape)"
      ],
      "execution_count": null,
      "outputs": [
        {
          "output_type": "stream",
          "text": [
            "(51031355, 3)\n"
          ],
          "name": "stdout"
        }
      ]
    },
    {
      "cell_type": "markdown",
      "metadata": {
        "id": "ZzlgUF7-Cdk8"
      },
      "source": [
        "Chequeamos que estén todas las películas:"
      ]
    },
    {
      "cell_type": "code",
      "metadata": {
        "id": "HQtdwso5Cdk8",
        "outputId": "a4a9db7b-f6c5-42de-a50f-41d063f99778"
      },
      "source": [
        "peliculas_presentes = df.Movie_id.unique()\n",
        "peliculas_presentes"
      ],
      "execution_count": null,
      "outputs": [
        {
          "output_type": "execute_result",
          "data": {
            "text/plain": [
              "array([   1,    2,    3, ..., 9208, 9209, 9210], dtype=int16)"
            ]
          },
          "metadata": {
            "tags": []
          },
          "execution_count": 14
        }
      ]
    },
    {
      "cell_type": "code",
      "metadata": {
        "id": "dPa5nP6CCdk9",
        "outputId": "48627a52-4dad-463c-b279-c97b4357b34a"
      },
      "source": [
        "print((peliculas_presentes - np.arange(1,9210 + 1)).sum())"
      ],
      "execution_count": null,
      "outputs": [
        {
          "output_type": "stream",
          "text": [
            "0\n"
          ],
          "name": "stdout"
        }
      ]
    },
    {
      "cell_type": "markdown",
      "metadata": {
        "id": "XzpUI_9BCdk9"
      },
      "source": [
        "Y guardamos"
      ]
    },
    {
      "cell_type": "code",
      "metadata": {
        "id": "7ZzwyJbjCdk-"
      },
      "source": [
        "if True:\n",
        "    df.to_csv('netflix-prize-data/combined_data_1y2_with_movie_id.csv', index= False)"
      ],
      "execution_count": null,
      "outputs": []
    },
    {
      "cell_type": "code",
      "metadata": {
        "id": "G-K_6HtmCdk-"
      },
      "source": [
        ""
      ],
      "execution_count": null,
      "outputs": []
    }
  ]
}